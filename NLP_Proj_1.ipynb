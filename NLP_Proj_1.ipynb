{
  "nbformat": 4,
  "nbformat_minor": 0,
  "metadata": {
    "colab": {
      "name": "NLP-Proj-1.ipynb",
      "provenance": [],
      "collapsed_sections": [],
      "authorship_tag": "ABX9TyMqzszfzcHdDaDZksgCHZ7G",
      "include_colab_link": true
    },
    "kernelspec": {
      "name": "python3",
      "display_name": "Python 3"
    },
    "language_info": {
      "name": "python"
    }
  },
  "cells": [
    {
      "cell_type": "markdown",
      "metadata": {
        "id": "view-in-github",
        "colab_type": "text"
      },
      "source": [
        "<a href=\"https://colab.research.google.com/github/karthikrocksit/Deep_Learning-/blob/main/NLP_Proj_1.ipynb\" target=\"_parent\"><img src=\"https://colab.research.google.com/assets/colab-badge.svg\" alt=\"Open In Colab\"/></a>"
      ]
    },
    {
      "cell_type": "code",
      "metadata": {
        "id": "gmaWF3Vv0PVE"
      },
      "source": [
        "import pandas as pd\n",
        "import re\n",
        "from nltk.corpus import stopwords\n",
        "from sklearn.feature_extraction.text import CountVectorizer\n",
        "from sklearn.model_selection import train_test_split\n",
        "from nltk.stem.snowball import SnowballStemmer\n",
        "import warnings\n",
        "warnings.filterwarnings('ignore')\n",
        "import pandas_profiling as pp\n",
        "import seaborn as sns\n",
        "import matplotlib as plt\n",
        "%matplotlib inline"
      ],
      "execution_count": 45,
      "outputs": []
    },
    {
      "cell_type": "code",
      "metadata": {
        "id": "njNj-ARYIpn_"
      },
      "source": [
        "import numpy as np # linear algebra\n",
        "import pandas as pd # data processing, CSV file I/O (e.g. pd.read_csv)"
      ],
      "execution_count": 46,
      "outputs": []
    },
    {
      "cell_type": "code",
      "metadata": {
        "id": "OHW3U1hR4EBr",
        "colab": {
          "base_uri": "https://localhost:8080/"
        },
        "outputId": "9d57f050-90f0-426b-be80-c846c6009eca"
      },
      "source": [
        "from google.colab import drive\n",
        "drive.mount('/content/drive')"
      ],
      "execution_count": 47,
      "outputs": [
        {
          "output_type": "stream",
          "text": [
            "Drive already mounted at /content/drive; to attempt to forcibly remount, call drive.mount(\"/content/drive\", force_remount=True).\n"
          ],
          "name": "stdout"
        }
      ]
    },
    {
      "cell_type": "code",
      "metadata": {
        "id": "s2Yh2w_A_6-C"
      },
      "source": [
        "from pydrive.auth import GoogleAuth\n",
        "from pydrive.drive import GoogleDrive\n",
        "from google.colab import auth\n",
        "from oauth2client.client import GoogleCredentials"
      ],
      "execution_count": 48,
      "outputs": []
    },
    {
      "cell_type": "code",
      "metadata": {
        "colab": {
          "base_uri": "https://localhost:8080/"
        },
        "id": "h11R_-IxKRSV",
        "outputId": "a9590097-05c7-4b76-ba5d-6d74bcd6bec5"
      },
      "source": [
        "import os\n",
        "for dirname, _, filenames in os.walk('/content/drive'):\n",
        "    for filename in filenames:\n",
        "        print(os.path.join(dirname, filename))"
      ],
      "execution_count": 49,
      "outputs": [
        {
          "output_type": "stream",
          "text": [
            "/content/drive/MyDrive/02. DataModeling.pdf\n",
            "/content/drive/MyDrive/convert-jpg-to-pdf.net_2017-01-26_16-18-47.pdf\n",
            "/content/drive/MyDrive/Doc Feb 8, 2018 at 10-19 AM.pdf\n",
            "/content/drive/MyDrive/I-140 Approval Notice.pdf\n",
            "/content/drive/MyDrive/TAX EVALUATION SHEET 2018 .gsheet\n",
            "/content/drive/MyDrive/TAX EVALUATION SHEET 2018 .xlsx\n",
            "/content/drive/MyDrive/e-Cert.pdf\n",
            "/content/drive/MyDrive/RENTAL AGREEMENT .doc\n",
            "/content/drive/MyDrive/RENTAL AGREEMENT .gdoc\n",
            "/content/drive/MyDrive/ATT00002\n",
            "/content/drive/MyDrive/ATT00002.gdoc\n",
            "/content/drive/MyDrive/blogtext.csv\n",
            "/content/drive/MyDrive/Reception/To Karthik.zip\n",
            "/content/drive/MyDrive/Pay_Slips_LTI_US/Apr_19_01.pdf\n",
            "/content/drive/MyDrive/Pay_Slips_LTI_US/Apr_19_02.pdf\n",
            "/content/drive/MyDrive/Pay_Slips_LTI_US/Aug_18_02.pdf\n",
            "/content/drive/MyDrive/Pay_Slips_LTI_US/Aug_18_01.pdf\n",
            "/content/drive/MyDrive/Pay_Slips_LTI_US/Feb_19_02.pdf\n",
            "/content/drive/MyDrive/Pay_Slips_LTI_US/Feb_19_01.pdf\n",
            "/content/drive/MyDrive/Pay_Slips_LTI_US/Aug_19.pdf\n",
            "/content/drive/MyDrive/Pay_Slips_LTI_US/Dec_18_03.pdf\n",
            "/content/drive/MyDrive/Pay_Slips_LTI_US/Dec_18_02.pdf\n",
            "/content/drive/MyDrive/Pay_Slips_LTI_US/Dec_18_01.pdf\n",
            "/content/drive/MyDrive/Pay_Slips_LTI_US/Jan_19_02.pdf\n",
            "/content/drive/MyDrive/Pay_Slips_LTI_US/Jul_19.pdf\n",
            "/content/drive/MyDrive/Pay_Slips_LTI_US/Jun_19_02.pdf\n",
            "/content/drive/MyDrive/Pay_Slips_LTI_US/Mar_19_01.pdf\n",
            "/content/drive/MyDrive/Pay_Slips_LTI_US/Jan_19_01.pdf\n",
            "/content/drive/MyDrive/Pay_Slips_LTI_US/May_19_02.pdf\n",
            "/content/drive/MyDrive/Pay_Slips_LTI_US/Nov_18_01.pdf\n",
            "/content/drive/MyDrive/Pay_Slips_LTI_US/Mar_19_02.pdf\n",
            "/content/drive/MyDrive/Pay_Slips_LTI_US/Jun_19_01.pdf\n",
            "/content/drive/MyDrive/Pay_Slips_LTI_US/May_19_01.pdf\n",
            "/content/drive/MyDrive/Pay_Slips_LTI_US/Nov_18_02.pdf\n",
            "/content/drive/MyDrive/Pay_Slips_LTI_US/Oct_18_02.pdf\n",
            "/content/drive/MyDrive/Pay_Slips_LTI_US/Oct_18_01.pdf\n",
            "/content/drive/MyDrive/Pay_Slips_LTI_US/Sep_18_02.pdf\n",
            "/content/drive/MyDrive/Pay_Slips_LTI_US/W-2_Form_2018.pdf\n",
            "/content/drive/MyDrive/Pay_Slips_LTI_US/Sep_18_01.pdf\n",
            "/content/drive/MyDrive/Experience_Letters/CTS_Experience_Letter.pdf\n",
            "/content/drive/MyDrive/Experience_Letters/Infosys_Experience_Letter.pdf\n",
            "/content/drive/MyDrive/Experience_Letters/L&T India experience Letter.pdf\n",
            "/content/drive/MyDrive/Experience_Letters/L&T USA experience Letter.pdf\n",
            "/content/drive/MyDrive/Experience_Letters/Relieving_Letter_CTS.pdf\n",
            "/content/drive/MyDrive/Experience_Letters/Relieving_Letter_Infy_87715.pdf\n",
            "/content/drive/MyDrive/Pay_slips_CTS/pay_statements (1).zip\n",
            "/content/drive/MyDrive/Pay_slips_CTS/pay_statements (2).zip\n",
            "/content/drive/MyDrive/Pay_slips_CTS/pay_statements (3).zip\n",
            "/content/drive/MyDrive/Pay_slips_CTS/pay_statements (5).zip\n",
            "/content/drive/MyDrive/Pay_slips_CTS/pay_statements (4).zip\n",
            "/content/drive/MyDrive/Pay_slips_CTS/W2_2016_CTS.pdf\n",
            "/content/drive/MyDrive/Pay_slips_CTS/W2_2017_CTS.pdf\n",
            "/content/drive/MyDrive/Pay_slips_CTS/pay_statements.zip\n",
            "/content/drive/MyDrive/Pay_slips_CTS/W2_2016_INFY.pdf\n",
            "/content/drive/MyDrive/Pay_slips_CTS/W2_2018_CTS.pdf\n",
            "/content/drive/MyDrive/Income_Tax_W2/W-2_2018_LTI.pdf\n",
            "/content/drive/MyDrive/Income_Tax_W2/W2_2014.pdf\n",
            "/content/drive/MyDrive/Income_Tax_W2/W2_2015.pdf\n",
            "/content/drive/MyDrive/Income_Tax_W2/W2_2016_CTS.pdf\n",
            "/content/drive/MyDrive/Income_Tax_W2/W2_2016_INFY.pdf\n",
            "/content/drive/MyDrive/Income_Tax_W2/W2_2017_CTS.pdf\n",
            "/content/drive/MyDrive/Income_Tax_W2/W2_2018_CTS.pdf\n",
            "/content/drive/MyDrive/Income_Tax_W2/W2_2019.pdf\n",
            "/content/drive/MyDrive/Colab Notebooks/Untitled0.ipynb\n",
            "/content/drive/MyDrive/Colab Notebooks/Untitled1.ipynb\n",
            "/content/drive/MyDrive/Colab Notebooks/NLP.ipynb\n"
          ],
          "name": "stdout"
        }
      ]
    },
    {
      "cell_type": "code",
      "metadata": {
        "id": "SEjQGNELdiIO"
      },
      "source": [
        "df_blog=pd.read_csv('drive/MyDrive/blogtext.csv')"
      ],
      "execution_count": 50,
      "outputs": []
    },
    {
      "cell_type": "code",
      "metadata": {
        "id": "r8KjsK404vjT"
      },
      "source": [
        "#Limiting the data and using fewer rows as the data size is large\n",
        "#blog_df = blog_df.head(10000)\n",
        "\n",
        "df_blog = pd.read_csv('drive/MyDrive/blogtext.csv',nrows=100000)"
      ],
      "execution_count": 51,
      "outputs": []
    },
    {
      "cell_type": "code",
      "metadata": {
        "colab": {
          "base_uri": "https://localhost:8080/"
        },
        "id": "dnbBNl4Od7hz",
        "outputId": "55b9bffb-f044-4c56-df40-ff1d8ccedd7b"
      },
      "source": [
        "df_blog.shape"
      ],
      "execution_count": 52,
      "outputs": [
        {
          "output_type": "execute_result",
          "data": {
            "text/plain": [
              "(100000, 7)"
            ]
          },
          "metadata": {
            "tags": []
          },
          "execution_count": 52
        }
      ]
    },
    {
      "cell_type": "code",
      "metadata": {
        "colab": {
          "base_uri": "https://localhost:8080/",
          "height": 204
        },
        "id": "OOa5QyStJEqq",
        "outputId": "b842436f-a28f-4dc9-b948-8ff23e3ed764"
      },
      "source": [
        "df_blog.sample(5)\n",
        "\n"
      ],
      "execution_count": 53,
      "outputs": [
        {
          "output_type": "execute_result",
          "data": {
            "text/html": [
              "<div>\n",
              "<style scoped>\n",
              "    .dataframe tbody tr th:only-of-type {\n",
              "        vertical-align: middle;\n",
              "    }\n",
              "\n",
              "    .dataframe tbody tr th {\n",
              "        vertical-align: top;\n",
              "    }\n",
              "\n",
              "    .dataframe thead th {\n",
              "        text-align: right;\n",
              "    }\n",
              "</style>\n",
              "<table border=\"1\" class=\"dataframe\">\n",
              "  <thead>\n",
              "    <tr style=\"text-align: right;\">\n",
              "      <th></th>\n",
              "      <th>id</th>\n",
              "      <th>gender</th>\n",
              "      <th>age</th>\n",
              "      <th>topic</th>\n",
              "      <th>sign</th>\n",
              "      <th>date</th>\n",
              "      <th>text</th>\n",
              "    </tr>\n",
              "  </thead>\n",
              "  <tbody>\n",
              "    <tr>\n",
              "      <th>78172</th>\n",
              "      <td>1779446</td>\n",
              "      <td>male</td>\n",
              "      <td>16</td>\n",
              "      <td>Student</td>\n",
              "      <td>Leo</td>\n",
              "      <td>14,May,2004</td>\n",
              "      <td>THEY ARE OVER!!! OVER!! OVER!! YES !!  ...</td>\n",
              "    </tr>\n",
              "    <tr>\n",
              "      <th>726</th>\n",
              "      <td>4275555</td>\n",
              "      <td>female</td>\n",
              "      <td>34</td>\n",
              "      <td>indUnk</td>\n",
              "      <td>Scorpio</td>\n",
              "      <td>23,August,2004</td>\n",
              "      <td>Ok can anyone enlighten me here has to ...</td>\n",
              "    </tr>\n",
              "    <tr>\n",
              "      <th>52432</th>\n",
              "      <td>2153234</td>\n",
              "      <td>male</td>\n",
              "      <td>27</td>\n",
              "      <td>Religion</td>\n",
              "      <td>Pisces</td>\n",
              "      <td>14,January,2004</td>\n",
              "      <td>I couldn't Blog yesterday, but I wanted t...</td>\n",
              "    </tr>\n",
              "    <tr>\n",
              "      <th>78493</th>\n",
              "      <td>782203</td>\n",
              "      <td>male</td>\n",
              "      <td>25</td>\n",
              "      <td>Technology</td>\n",
              "      <td>Virgo</td>\n",
              "      <td>10,July,2004</td>\n",
              "      <td>Ben just told me he got a new girlfrien...</td>\n",
              "    </tr>\n",
              "    <tr>\n",
              "      <th>8824</th>\n",
              "      <td>1463590</td>\n",
              "      <td>female</td>\n",
              "      <td>24</td>\n",
              "      <td>Education</td>\n",
              "      <td>Capricorn</td>\n",
              "      <td>24,May,2004</td>\n",
              "      <td>Mood:   At work on a Saturday...</td>\n",
              "    </tr>\n",
              "  </tbody>\n",
              "</table>\n",
              "</div>"
            ],
            "text/plain": [
              "            id  ...                                               text\n",
              "78172  1779446  ...         THEY ARE OVER!!! OVER!! OVER!! YES !!  ...\n",
              "726    4275555  ...         Ok can anyone enlighten me here has to ...\n",
              "52432  2153234  ...       I couldn't Blog yesterday, but I wanted t...\n",
              "78493   782203  ...         Ben just told me he got a new girlfrien...\n",
              "8824   1463590  ...                   Mood:   At work on a Saturday...\n",
              "\n",
              "[5 rows x 7 columns]"
            ]
          },
          "metadata": {
            "tags": []
          },
          "execution_count": 53
        }
      ]
    },
    {
      "cell_type": "code",
      "metadata": {
        "colab": {
          "base_uri": "https://localhost:8080/",
          "height": 204
        },
        "id": "xJ0FphJzLA6k",
        "outputId": "37ae48a0-84ab-4f8d-c909-c4c0df5db13a"
      },
      "source": [
        "df_blog.head()"
      ],
      "execution_count": 54,
      "outputs": [
        {
          "output_type": "execute_result",
          "data": {
            "text/html": [
              "<div>\n",
              "<style scoped>\n",
              "    .dataframe tbody tr th:only-of-type {\n",
              "        vertical-align: middle;\n",
              "    }\n",
              "\n",
              "    .dataframe tbody tr th {\n",
              "        vertical-align: top;\n",
              "    }\n",
              "\n",
              "    .dataframe thead th {\n",
              "        text-align: right;\n",
              "    }\n",
              "</style>\n",
              "<table border=\"1\" class=\"dataframe\">\n",
              "  <thead>\n",
              "    <tr style=\"text-align: right;\">\n",
              "      <th></th>\n",
              "      <th>id</th>\n",
              "      <th>gender</th>\n",
              "      <th>age</th>\n",
              "      <th>topic</th>\n",
              "      <th>sign</th>\n",
              "      <th>date</th>\n",
              "      <th>text</th>\n",
              "    </tr>\n",
              "  </thead>\n",
              "  <tbody>\n",
              "    <tr>\n",
              "      <th>0</th>\n",
              "      <td>2059027</td>\n",
              "      <td>male</td>\n",
              "      <td>15</td>\n",
              "      <td>Student</td>\n",
              "      <td>Leo</td>\n",
              "      <td>14,May,2004</td>\n",
              "      <td>Info has been found (+/- 100 pages,...</td>\n",
              "    </tr>\n",
              "    <tr>\n",
              "      <th>1</th>\n",
              "      <td>2059027</td>\n",
              "      <td>male</td>\n",
              "      <td>15</td>\n",
              "      <td>Student</td>\n",
              "      <td>Leo</td>\n",
              "      <td>13,May,2004</td>\n",
              "      <td>These are the team members:   Drewe...</td>\n",
              "    </tr>\n",
              "    <tr>\n",
              "      <th>2</th>\n",
              "      <td>2059027</td>\n",
              "      <td>male</td>\n",
              "      <td>15</td>\n",
              "      <td>Student</td>\n",
              "      <td>Leo</td>\n",
              "      <td>12,May,2004</td>\n",
              "      <td>In het kader van kernfusie op aarde...</td>\n",
              "    </tr>\n",
              "    <tr>\n",
              "      <th>3</th>\n",
              "      <td>2059027</td>\n",
              "      <td>male</td>\n",
              "      <td>15</td>\n",
              "      <td>Student</td>\n",
              "      <td>Leo</td>\n",
              "      <td>12,May,2004</td>\n",
              "      <td>testing!!!  testing!!!</td>\n",
              "    </tr>\n",
              "    <tr>\n",
              "      <th>4</th>\n",
              "      <td>3581210</td>\n",
              "      <td>male</td>\n",
              "      <td>33</td>\n",
              "      <td>InvestmentBanking</td>\n",
              "      <td>Aquarius</td>\n",
              "      <td>11,June,2004</td>\n",
              "      <td>Thanks to Yahoo!'s Toolbar I can ...</td>\n",
              "    </tr>\n",
              "  </tbody>\n",
              "</table>\n",
              "</div>"
            ],
            "text/plain": [
              "        id  ...                                               text\n",
              "0  2059027  ...             Info has been found (+/- 100 pages,...\n",
              "1  2059027  ...             These are the team members:   Drewe...\n",
              "2  2059027  ...             In het kader van kernfusie op aarde...\n",
              "3  2059027  ...                   testing!!!  testing!!!          \n",
              "4  3581210  ...               Thanks to Yahoo!'s Toolbar I can ...\n",
              "\n",
              "[5 rows x 7 columns]"
            ]
          },
          "metadata": {
            "tags": []
          },
          "execution_count": 54
        }
      ]
    },
    {
      "cell_type": "code",
      "metadata": {
        "colab": {
          "base_uri": "https://localhost:8080/",
          "height": 204
        },
        "id": "u4aU7Nh9LLi8",
        "outputId": "321d63ae-2996-49f4-8d82-3722577aebe0"
      },
      "source": [
        "df_blog.tail()"
      ],
      "execution_count": 55,
      "outputs": [
        {
          "output_type": "execute_result",
          "data": {
            "text/html": [
              "<div>\n",
              "<style scoped>\n",
              "    .dataframe tbody tr th:only-of-type {\n",
              "        vertical-align: middle;\n",
              "    }\n",
              "\n",
              "    .dataframe tbody tr th {\n",
              "        vertical-align: top;\n",
              "    }\n",
              "\n",
              "    .dataframe thead th {\n",
              "        text-align: right;\n",
              "    }\n",
              "</style>\n",
              "<table border=\"1\" class=\"dataframe\">\n",
              "  <thead>\n",
              "    <tr style=\"text-align: right;\">\n",
              "      <th></th>\n",
              "      <th>id</th>\n",
              "      <th>gender</th>\n",
              "      <th>age</th>\n",
              "      <th>topic</th>\n",
              "      <th>sign</th>\n",
              "      <th>date</th>\n",
              "      <th>text</th>\n",
              "    </tr>\n",
              "  </thead>\n",
              "  <tbody>\n",
              "    <tr>\n",
              "      <th>99995</th>\n",
              "      <td>1709399</td>\n",
              "      <td>male</td>\n",
              "      <td>27</td>\n",
              "      <td>Student</td>\n",
              "      <td>Virgo</td>\n",
              "      <td>18,September,2003</td>\n",
              "      <td>THE HINDU - 125 YEARS             ...</td>\n",
              "    </tr>\n",
              "    <tr>\n",
              "      <th>99996</th>\n",
              "      <td>1709399</td>\n",
              "      <td>male</td>\n",
              "      <td>27</td>\n",
              "      <td>Student</td>\n",
              "      <td>Virgo</td>\n",
              "      <td>16,September,2003</td>\n",
              "      <td>DILBERT &amp; IIT-ans                 ...</td>\n",
              "    </tr>\n",
              "    <tr>\n",
              "      <th>99997</th>\n",
              "      <td>1709399</td>\n",
              "      <td>male</td>\n",
              "      <td>27</td>\n",
              "      <td>Student</td>\n",
              "      <td>Virgo</td>\n",
              "      <td>12,September,2003</td>\n",
              "      <td>Case Study : How HP won $3 billion...</td>\n",
              "    </tr>\n",
              "    <tr>\n",
              "      <th>99998</th>\n",
              "      <td>1709399</td>\n",
              "      <td>male</td>\n",
              "      <td>27</td>\n",
              "      <td>Student</td>\n",
              "      <td>Virgo</td>\n",
              "      <td>09,September,2003</td>\n",
              "      <td>Championing Chennai               ...</td>\n",
              "    </tr>\n",
              "    <tr>\n",
              "      <th>99999</th>\n",
              "      <td>1709399</td>\n",
              "      <td>male</td>\n",
              "      <td>27</td>\n",
              "      <td>Student</td>\n",
              "      <td>Virgo</td>\n",
              "      <td>05,September,2003</td>\n",
              "      <td>WEEKEND                         It...</td>\n",
              "    </tr>\n",
              "  </tbody>\n",
              "</table>\n",
              "</div>"
            ],
            "text/plain": [
              "            id  ...                                               text\n",
              "99995  1709399  ...              THE HINDU - 125 YEARS             ...\n",
              "99996  1709399  ...              DILBERT & IIT-ans                 ...\n",
              "99997  1709399  ...              Case Study : How HP won $3 billion...\n",
              "99998  1709399  ...              Championing Chennai               ...\n",
              "99999  1709399  ...              WEEKEND                         It...\n",
              "\n",
              "[5 rows x 7 columns]"
            ]
          },
          "metadata": {
            "tags": []
          },
          "execution_count": 55
        }
      ]
    },
    {
      "cell_type": "code",
      "metadata": {
        "colab": {
          "base_uri": "https://localhost:8080/"
        },
        "id": "SLiBAd4gL6ac",
        "outputId": "4f2db7ba-f013-43e6-e630-45b296816214"
      },
      "source": [
        "df_blog.info()"
      ],
      "execution_count": 56,
      "outputs": [
        {
          "output_type": "stream",
          "text": [
            "<class 'pandas.core.frame.DataFrame'>\n",
            "RangeIndex: 100000 entries, 0 to 99999\n",
            "Data columns (total 7 columns):\n",
            " #   Column  Non-Null Count   Dtype \n",
            "---  ------  --------------   ----- \n",
            " 0   id      100000 non-null  int64 \n",
            " 1   gender  100000 non-null  object\n",
            " 2   age     100000 non-null  int64 \n",
            " 3   topic   100000 non-null  object\n",
            " 4   sign    100000 non-null  object\n",
            " 5   date    100000 non-null  object\n",
            " 6   text    100000 non-null  object\n",
            "dtypes: int64(2), object(5)\n",
            "memory usage: 5.3+ MB\n"
          ],
          "name": "stdout"
        }
      ]
    },
    {
      "cell_type": "code",
      "metadata": {
        "colab": {
          "base_uri": "https://localhost:8080/"
        },
        "id": "VuXnT6TmMm3e",
        "outputId": "e5dd044e-9f0b-40d8-8969-6d8ce5d0d4f7"
      },
      "source": [
        "df_blog.gender.value_counts()"
      ],
      "execution_count": 57,
      "outputs": [
        {
          "output_type": "execute_result",
          "data": {
            "text/plain": [
              "male      53358\n",
              "female    46642\n",
              "Name: gender, dtype: int64"
            ]
          },
          "metadata": {
            "tags": []
          },
          "execution_count": 57
        }
      ]
    },
    {
      "cell_type": "code",
      "metadata": {
        "colab": {
          "base_uri": "https://localhost:8080/"
        },
        "id": "uTAFYbMpNCo0",
        "outputId": "721ce95a-c5e0-45b2-be86-abbc7d13ce66"
      },
      "source": [
        "df_blog.isna().sum()"
      ],
      "execution_count": 58,
      "outputs": [
        {
          "output_type": "execute_result",
          "data": {
            "text/plain": [
              "id        0\n",
              "gender    0\n",
              "age       0\n",
              "topic     0\n",
              "sign      0\n",
              "date      0\n",
              "text      0\n",
              "dtype: int64"
            ]
          },
          "metadata": {
            "tags": []
          },
          "execution_count": 58
        }
      ]
    },
    {
      "cell_type": "code",
      "metadata": {
        "colab": {
          "base_uri": "https://localhost:8080/",
          "height": 296
        },
        "id": "cENjqv7zNPjj",
        "outputId": "17e669e3-c614-411b-e907-d9283e737e38"
      },
      "source": [
        "sns.countplot(x='gender',data=df_blog)"
      ],
      "execution_count": 59,
      "outputs": [
        {
          "output_type": "execute_result",
          "data": {
            "text/plain": [
              "<matplotlib.axes._subplots.AxesSubplot at 0x7f0931e4b3d0>"
            ]
          },
          "metadata": {
            "tags": []
          },
          "execution_count": 59
        },
        {
          "output_type": "display_data",
          "data": {
            "image/png": "[encoded data removed]",
            "text/plain": [
              "<Figure size 432x288 with 1 Axes>"
            ]
          },
          "metadata": {
            "tags": [],
            "needs_background": "light"
          }
        }
      ]
    },
    {
      "cell_type": "code",
      "metadata": {
        "colab": {
          "base_uri": "https://localhost:8080/",
          "height": 296
        },
        "id": "wz64zh5sNb21",
        "outputId": "97c26d7d-a3e5-415e-e3a5-4c76d72ad9f1"
      },
      "source": [
        "sns.countplot(x='sign',data=df_blog)"
      ],
      "execution_count": 60,
      "outputs": [
        {
          "output_type": "execute_result",
          "data": {
            "text/plain": [
              "<matplotlib.axes._subplots.AxesSubplot at 0x7f0901ea56d0>"
            ]
          },
          "metadata": {
            "tags": []
          },
          "execution_count": 60
        },
        {
          "output_type": "display_data",
          "data": {
            "image/png": "[encoded data removed]",
            "text/plain": [
              "<Figure size 432x288 with 1 Axes>"
            ]
          },
          "metadata": {
            "tags": [],
            "needs_background": "light"
          }
        }
      ]
    },
    {
      "cell_type": "code",
      "metadata": {
        "colab": {
          "base_uri": "https://localhost:8080/"
        },
        "id": "Kv4J6ZM_Nsfs",
        "outputId": "ae1bed68-b611-4c11-fe75-6676f389ffcb"
      },
      "source": [
        "df_blog.isna().sum()"
      ],
      "execution_count": 61,
      "outputs": [
        {
          "output_type": "execute_result",
          "data": {
            "text/plain": [
              "id        0\n",
              "gender    0\n",
              "age       0\n",
              "topic     0\n",
              "sign      0\n",
              "date      0\n",
              "text      0\n",
              "dtype: int64"
            ]
          },
          "metadata": {
            "tags": []
          },
          "execution_count": 61
        }
      ]
    },
    {
      "cell_type": "markdown",
      "metadata": {
        "id": "8_AGp8qkNzGd"
      },
      "source": [
        "a. Remove unwanted characters\n",
        "\n",
        "b. Convert text to lowercase\n",
        "\n",
        "c. Remove unwanted spaces\n",
        "\n",
        "d. Remove stopwords"
      ]
    },
    {
      "cell_type": "code",
      "metadata": {
        "id": "eT6SOnK1N0Up"
      },
      "source": [
        "# remove unwanted chars other than alphanumeric\n",
        "pattern = \"[^\\w ]\"\n",
        "df_blog.text = df_blog.text.apply(lambda s : re.sub(pattern,\"\",s))"
      ],
      "execution_count": 62,
      "outputs": []
    },
    {
      "cell_type": "code",
      "metadata": {
        "colab": {
          "base_uri": "https://localhost:8080/",
          "height": 204
        },
        "id": "iqBc5pNCQAjz",
        "outputId": "3536bc45-066e-4232-df98-614a417dd0a2"
      },
      "source": [
        "df_blog.head(5)"
      ],
      "execution_count": 63,
      "outputs": [
        {
          "output_type": "execute_result",
          "data": {
            "text/html": [
              "<div>\n",
              "<style scoped>\n",
              "    .dataframe tbody tr th:only-of-type {\n",
              "        vertical-align: middle;\n",
              "    }\n",
              "\n",
              "    .dataframe tbody tr th {\n",
              "        vertical-align: top;\n",
              "    }\n",
              "\n",
              "    .dataframe thead th {\n",
              "        text-align: right;\n",
              "    }\n",
              "</style>\n",
              "<table border=\"1\" class=\"dataframe\">\n",
              "  <thead>\n",
              "    <tr style=\"text-align: right;\">\n",
              "      <th></th>\n",
              "      <th>id</th>\n",
              "      <th>gender</th>\n",
              "      <th>age</th>\n",
              "      <th>topic</th>\n",
              "      <th>sign</th>\n",
              "      <th>date</th>\n",
              "      <th>text</th>\n",
              "    </tr>\n",
              "  </thead>\n",
              "  <tbody>\n",
              "    <tr>\n",
              "      <th>0</th>\n",
              "      <td>2059027</td>\n",
              "      <td>male</td>\n",
              "      <td>15</td>\n",
              "      <td>Student</td>\n",
              "      <td>Leo</td>\n",
              "      <td>14,May,2004</td>\n",
              "      <td>Info has been found  100 pages and ...</td>\n",
              "    </tr>\n",
              "    <tr>\n",
              "      <th>1</th>\n",
              "      <td>2059027</td>\n",
              "      <td>male</td>\n",
              "      <td>15</td>\n",
              "      <td>Student</td>\n",
              "      <td>Leo</td>\n",
              "      <td>13,May,2004</td>\n",
              "      <td>These are the team members   Drewes...</td>\n",
              "    </tr>\n",
              "    <tr>\n",
              "      <th>2</th>\n",
              "      <td>2059027</td>\n",
              "      <td>male</td>\n",
              "      <td>15</td>\n",
              "      <td>Student</td>\n",
              "      <td>Leo</td>\n",
              "      <td>12,May,2004</td>\n",
              "      <td>In het kader van kernfusie op aarde...</td>\n",
              "    </tr>\n",
              "    <tr>\n",
              "      <th>3</th>\n",
              "      <td>2059027</td>\n",
              "      <td>male</td>\n",
              "      <td>15</td>\n",
              "      <td>Student</td>\n",
              "      <td>Leo</td>\n",
              "      <td>12,May,2004</td>\n",
              "      <td>testing  testing</td>\n",
              "    </tr>\n",
              "    <tr>\n",
              "      <th>4</th>\n",
              "      <td>3581210</td>\n",
              "      <td>male</td>\n",
              "      <td>33</td>\n",
              "      <td>InvestmentBanking</td>\n",
              "      <td>Aquarius</td>\n",
              "      <td>11,June,2004</td>\n",
              "      <td>Thanks to Yahoos Toolbar I can no...</td>\n",
              "    </tr>\n",
              "  </tbody>\n",
              "</table>\n",
              "</div>"
            ],
            "text/plain": [
              "        id  ...                                               text\n",
              "0  2059027  ...             Info has been found  100 pages and ...\n",
              "1  2059027  ...             These are the team members   Drewes...\n",
              "2  2059027  ...             In het kader van kernfusie op aarde...\n",
              "3  2059027  ...                         testing  testing          \n",
              "4  3581210  ...               Thanks to Yahoos Toolbar I can no...\n",
              "\n",
              "[5 rows x 7 columns]"
            ]
          },
          "metadata": {
            "tags": []
          },
          "execution_count": 63
        }
      ]
    },
    {
      "cell_type": "code",
      "metadata": {
        "id": "6Ad9FVHIPkoG"
      },
      "source": [
        "#covert text to lower\n",
        "df_blog.text = df_blog.text.apply(lambda s: s.lower())"
      ],
      "execution_count": 64,
      "outputs": []
    },
    {
      "cell_type": "code",
      "metadata": {
        "colab": {
          "base_uri": "https://localhost:8080/",
          "height": 204
        },
        "id": "ffMkMI6iP8AI",
        "outputId": "c4578cb5-12d6-4272-c565-aa3839478e4d"
      },
      "source": [
        "df_blog.head(5)"
      ],
      "execution_count": 65,
      "outputs": [
        {
          "output_type": "execute_result",
          "data": {
            "text/html": [
              "<div>\n",
              "<style scoped>\n",
              "    .dataframe tbody tr th:only-of-type {\n",
              "        vertical-align: middle;\n",
              "    }\n",
              "\n",
              "    .dataframe tbody tr th {\n",
              "        vertical-align: top;\n",
              "    }\n",
              "\n",
              "    .dataframe thead th {\n",
              "        text-align: right;\n",
              "    }\n",
              "</style>\n",
              "<table border=\"1\" class=\"dataframe\">\n",
              "  <thead>\n",
              "    <tr style=\"text-align: right;\">\n",
              "      <th></th>\n",
              "      <th>id</th>\n",
              "      <th>gender</th>\n",
              "      <th>age</th>\n",
              "      <th>topic</th>\n",
              "      <th>sign</th>\n",
              "      <th>date</th>\n",
              "      <th>text</th>\n",
              "    </tr>\n",
              "  </thead>\n",
              "  <tbody>\n",
              "    <tr>\n",
              "      <th>0</th>\n",
              "      <td>2059027</td>\n",
              "      <td>male</td>\n",
              "      <td>15</td>\n",
              "      <td>Student</td>\n",
              "      <td>Leo</td>\n",
              "      <td>14,May,2004</td>\n",
              "      <td>info has been found  100 pages and ...</td>\n",
              "    </tr>\n",
              "    <tr>\n",
              "      <th>1</th>\n",
              "      <td>2059027</td>\n",
              "      <td>male</td>\n",
              "      <td>15</td>\n",
              "      <td>Student</td>\n",
              "      <td>Leo</td>\n",
              "      <td>13,May,2004</td>\n",
              "      <td>these are the team members   drewes...</td>\n",
              "    </tr>\n",
              "    <tr>\n",
              "      <th>2</th>\n",
              "      <td>2059027</td>\n",
              "      <td>male</td>\n",
              "      <td>15</td>\n",
              "      <td>Student</td>\n",
              "      <td>Leo</td>\n",
              "      <td>12,May,2004</td>\n",
              "      <td>in het kader van kernfusie op aarde...</td>\n",
              "    </tr>\n",
              "    <tr>\n",
              "      <th>3</th>\n",
              "      <td>2059027</td>\n",
              "      <td>male</td>\n",
              "      <td>15</td>\n",
              "      <td>Student</td>\n",
              "      <td>Leo</td>\n",
              "      <td>12,May,2004</td>\n",
              "      <td>testing  testing</td>\n",
              "    </tr>\n",
              "    <tr>\n",
              "      <th>4</th>\n",
              "      <td>3581210</td>\n",
              "      <td>male</td>\n",
              "      <td>33</td>\n",
              "      <td>InvestmentBanking</td>\n",
              "      <td>Aquarius</td>\n",
              "      <td>11,June,2004</td>\n",
              "      <td>thanks to yahoos toolbar i can no...</td>\n",
              "    </tr>\n",
              "  </tbody>\n",
              "</table>\n",
              "</div>"
            ],
            "text/plain": [
              "        id  ...                                               text\n",
              "0  2059027  ...             info has been found  100 pages and ...\n",
              "1  2059027  ...             these are the team members   drewes...\n",
              "2  2059027  ...             in het kader van kernfusie op aarde...\n",
              "3  2059027  ...                         testing  testing          \n",
              "4  3581210  ...               thanks to yahoos toolbar i can no...\n",
              "\n",
              "[5 rows x 7 columns]"
            ]
          },
          "metadata": {
            "tags": []
          },
          "execution_count": 65
        }
      ]
    },
    {
      "cell_type": "code",
      "metadata": {
        "id": "-9PSVsfMQTxX"
      },
      "source": [
        "#remove unwanted spaces\n",
        "df_blog.text = df_blog.text.apply(lambda s: s.strip())"
      ],
      "execution_count": 66,
      "outputs": []
    },
    {
      "cell_type": "code",
      "metadata": {
        "colab": {
          "base_uri": "https://localhost:8080/",
          "height": 204
        },
        "id": "fyQfdiaHQzSs",
        "outputId": "65a99e0c-4bb0-4144-ac0e-e9de4b5e2fd0"
      },
      "source": [
        "df_blog.head(5)"
      ],
      "execution_count": 67,
      "outputs": [
        {
          "output_type": "execute_result",
          "data": {
            "text/html": [
              "<div>\n",
              "<style scoped>\n",
              "    .dataframe tbody tr th:only-of-type {\n",
              "        vertical-align: middle;\n",
              "    }\n",
              "\n",
              "    .dataframe tbody tr th {\n",
              "        vertical-align: top;\n",
              "    }\n",
              "\n",
              "    .dataframe thead th {\n",
              "        text-align: right;\n",
              "    }\n",
              "</style>\n",
              "<table border=\"1\" class=\"dataframe\">\n",
              "  <thead>\n",
              "    <tr style=\"text-align: right;\">\n",
              "      <th></th>\n",
              "      <th>id</th>\n",
              "      <th>gender</th>\n",
              "      <th>age</th>\n",
              "      <th>topic</th>\n",
              "      <th>sign</th>\n",
              "      <th>date</th>\n",
              "      <th>text</th>\n",
              "    </tr>\n",
              "  </thead>\n",
              "  <tbody>\n",
              "    <tr>\n",
              "      <th>0</th>\n",
              "      <td>2059027</td>\n",
              "      <td>male</td>\n",
              "      <td>15</td>\n",
              "      <td>Student</td>\n",
              "      <td>Leo</td>\n",
              "      <td>14,May,2004</td>\n",
              "      <td>info has been found  100 pages and 45 mb of pd...</td>\n",
              "    </tr>\n",
              "    <tr>\n",
              "      <th>1</th>\n",
              "      <td>2059027</td>\n",
              "      <td>male</td>\n",
              "      <td>15</td>\n",
              "      <td>Student</td>\n",
              "      <td>Leo</td>\n",
              "      <td>13,May,2004</td>\n",
              "      <td>these are the team members   drewes van der la...</td>\n",
              "    </tr>\n",
              "    <tr>\n",
              "      <th>2</th>\n",
              "      <td>2059027</td>\n",
              "      <td>male</td>\n",
              "      <td>15</td>\n",
              "      <td>Student</td>\n",
              "      <td>Leo</td>\n",
              "      <td>12,May,2004</td>\n",
              "      <td>in het kader van kernfusie op aarde  maak je e...</td>\n",
              "    </tr>\n",
              "    <tr>\n",
              "      <th>3</th>\n",
              "      <td>2059027</td>\n",
              "      <td>male</td>\n",
              "      <td>15</td>\n",
              "      <td>Student</td>\n",
              "      <td>Leo</td>\n",
              "      <td>12,May,2004</td>\n",
              "      <td>testing  testing</td>\n",
              "    </tr>\n",
              "    <tr>\n",
              "      <th>4</th>\n",
              "      <td>3581210</td>\n",
              "      <td>male</td>\n",
              "      <td>33</td>\n",
              "      <td>InvestmentBanking</td>\n",
              "      <td>Aquarius</td>\n",
              "      <td>11,June,2004</td>\n",
              "      <td>thanks to yahoos toolbar i can now capture the...</td>\n",
              "    </tr>\n",
              "  </tbody>\n",
              "</table>\n",
              "</div>"
            ],
            "text/plain": [
              "        id  ...                                               text\n",
              "0  2059027  ...  info has been found  100 pages and 45 mb of pd...\n",
              "1  2059027  ...  these are the team members   drewes van der la...\n",
              "2  2059027  ...  in het kader van kernfusie op aarde  maak je e...\n",
              "3  2059027  ...                                   testing  testing\n",
              "4  3581210  ...  thanks to yahoos toolbar i can now capture the...\n",
              "\n",
              "[5 rows x 7 columns]"
            ]
          },
          "metadata": {
            "tags": []
          },
          "execution_count": 67
        }
      ]
    },
    {
      "cell_type": "code",
      "metadata": {
        "colab": {
          "base_uri": "https://localhost:8080/"
        },
        "id": "JCsIFB1yShUC",
        "outputId": "124677e4-1d07-4037-d424-f465fbae4888"
      },
      "source": [
        "import nltk\n",
        "nltk.download('stopwords')"
      ],
      "execution_count": 68,
      "outputs": [
        {
          "output_type": "stream",
          "text": [
            "[nltk_data] Downloading package stopwords to /root/nltk_data...\n",
            "[nltk_data]   Package stopwords is already up-to-date!\n"
          ],
          "name": "stdout"
        },
        {
          "output_type": "execute_result",
          "data": {
            "text/plain": [
              "True"
            ]
          },
          "metadata": {
            "tags": []
          },
          "execution_count": 68
        }
      ]
    },
    {
      "cell_type": "code",
      "metadata": {
        "id": "fDZ2vZeaSG4N"
      },
      "source": [
        "\n",
        "#remove stopwords\n",
        "stopwords=set(stopwords.words('english'))"
      ],
      "execution_count": 69,
      "outputs": []
    },
    {
      "cell_type": "code",
      "metadata": {
        "id": "9EtdwLlISr31"
      },
      "source": [
        "df_blog.text = df_blog.text.apply(lambda t: ' '.join([words for words in t.split() if words not in stopwords]) )"
      ],
      "execution_count": 70,
      "outputs": []
    },
    {
      "cell_type": "code",
      "metadata": {
        "id": "4cZarXNjS6x8"
      },
      "source": [
        "# drop id and date columns\n",
        "df_blog.drop(labels=['id','date'], axis=1,inplace=True)"
      ],
      "execution_count": 71,
      "outputs": []
    },
    {
      "cell_type": "code",
      "metadata": {
        "colab": {
          "base_uri": "https://localhost:8080/",
          "height": 204
        },
        "id": "DJXvvJM53Dee",
        "outputId": "3f42d61a-662c-43ec-e3db-3a7677fd506d"
      },
      "source": [
        "df_blog.head(5)"
      ],
      "execution_count": 72,
      "outputs": [
        {
          "output_type": "execute_result",
          "data": {
            "text/html": [
              "<div>\n",
              "<style scoped>\n",
              "    .dataframe tbody tr th:only-of-type {\n",
              "        vertical-align: middle;\n",
              "    }\n",
              "\n",
              "    .dataframe tbody tr th {\n",
              "        vertical-align: top;\n",
              "    }\n",
              "\n",
              "    .dataframe thead th {\n",
              "        text-align: right;\n",
              "    }\n",
              "</style>\n",
              "<table border=\"1\" class=\"dataframe\">\n",
              "  <thead>\n",
              "    <tr style=\"text-align: right;\">\n",
              "      <th></th>\n",
              "      <th>gender</th>\n",
              "      <th>age</th>\n",
              "      <th>topic</th>\n",
              "      <th>sign</th>\n",
              "      <th>text</th>\n",
              "    </tr>\n",
              "  </thead>\n",
              "  <tbody>\n",
              "    <tr>\n",
              "      <th>0</th>\n",
              "      <td>male</td>\n",
              "      <td>15</td>\n",
              "      <td>Student</td>\n",
              "      <td>Leo</td>\n",
              "      <td>info found 100 pages 45 mb pdf files wait unti...</td>\n",
              "    </tr>\n",
              "    <tr>\n",
              "      <th>1</th>\n",
              "      <td>male</td>\n",
              "      <td>15</td>\n",
              "      <td>Student</td>\n",
              "      <td>Leo</td>\n",
              "      <td>team members drewes van der laag urllink mail ...</td>\n",
              "    </tr>\n",
              "    <tr>\n",
              "      <th>2</th>\n",
              "      <td>male</td>\n",
              "      <td>15</td>\n",
              "      <td>Student</td>\n",
              "      <td>Leo</td>\n",
              "      <td>het kader van kernfusie op aarde maak je eigen...</td>\n",
              "    </tr>\n",
              "    <tr>\n",
              "      <th>3</th>\n",
              "      <td>male</td>\n",
              "      <td>15</td>\n",
              "      <td>Student</td>\n",
              "      <td>Leo</td>\n",
              "      <td>testing testing</td>\n",
              "    </tr>\n",
              "    <tr>\n",
              "      <th>4</th>\n",
              "      <td>male</td>\n",
              "      <td>33</td>\n",
              "      <td>InvestmentBanking</td>\n",
              "      <td>Aquarius</td>\n",
              "      <td>thanks yahoos toolbar capture urls popupswhich...</td>\n",
              "    </tr>\n",
              "  </tbody>\n",
              "</table>\n",
              "</div>"
            ],
            "text/plain": [
              "  gender  age  ...      sign                                               text\n",
              "0   male   15  ...       Leo  info found 100 pages 45 mb pdf files wait unti...\n",
              "1   male   15  ...       Leo  team members drewes van der laag urllink mail ...\n",
              "2   male   15  ...       Leo  het kader van kernfusie op aarde maak je eigen...\n",
              "3   male   15  ...       Leo                                    testing testing\n",
              "4   male   33  ...  Aquarius  thanks yahoos toolbar capture urls popupswhich...\n",
              "\n",
              "[5 rows x 5 columns]"
            ]
          },
          "metadata": {
            "tags": []
          },
          "execution_count": 72
        }
      ]
    },
    {
      "cell_type": "code",
      "metadata": {
        "id": "bL9VyinIyO92"
      },
      "source": [
        "df_blog['labels'] = df_blog.apply(lambda col : [col['gender'],col['age'],col['topic'],col['sign']], axis=1)"
      ],
      "execution_count": 73,
      "outputs": []
    },
    {
      "cell_type": "code",
      "metadata": {
        "colab": {
          "base_uri": "https://localhost:8080/",
          "height": 204
        },
        "id": "nPiSGnAi3iFm",
        "outputId": "b2167301-e151-433d-f2f7-87954ad55f58"
      },
      "source": [
        "df_blog.head()"
      ],
      "execution_count": 74,
      "outputs": [
        {
          "output_type": "execute_result",
          "data": {
            "text/html": [
              "<div>\n",
              "<style scoped>\n",
              "    .dataframe tbody tr th:only-of-type {\n",
              "        vertical-align: middle;\n",
              "    }\n",
              "\n",
              "    .dataframe tbody tr th {\n",
              "        vertical-align: top;\n",
              "    }\n",
              "\n",
              "    .dataframe thead th {\n",
              "        text-align: right;\n",
              "    }\n",
              "</style>\n",
              "<table border=\"1\" class=\"dataframe\">\n",
              "  <thead>\n",
              "    <tr style=\"text-align: right;\">\n",
              "      <th></th>\n",
              "      <th>gender</th>\n",
              "      <th>age</th>\n",
              "      <th>topic</th>\n",
              "      <th>sign</th>\n",
              "      <th>text</th>\n",
              "      <th>labels</th>\n",
              "    </tr>\n",
              "  </thead>\n",
              "  <tbody>\n",
              "    <tr>\n",
              "      <th>0</th>\n",
              "      <td>male</td>\n",
              "      <td>15</td>\n",
              "      <td>Student</td>\n",
              "      <td>Leo</td>\n",
              "      <td>info found 100 pages 45 mb pdf files wait unti...</td>\n",
              "      <td>[male, 15, Student, Leo]</td>\n",
              "    </tr>\n",
              "    <tr>\n",
              "      <th>1</th>\n",
              "      <td>male</td>\n",
              "      <td>15</td>\n",
              "      <td>Student</td>\n",
              "      <td>Leo</td>\n",
              "      <td>team members drewes van der laag urllink mail ...</td>\n",
              "      <td>[male, 15, Student, Leo]</td>\n",
              "    </tr>\n",
              "    <tr>\n",
              "      <th>2</th>\n",
              "      <td>male</td>\n",
              "      <td>15</td>\n",
              "      <td>Student</td>\n",
              "      <td>Leo</td>\n",
              "      <td>het kader van kernfusie op aarde maak je eigen...</td>\n",
              "      <td>[male, 15, Student, Leo]</td>\n",
              "    </tr>\n",
              "    <tr>\n",
              "      <th>3</th>\n",
              "      <td>male</td>\n",
              "      <td>15</td>\n",
              "      <td>Student</td>\n",
              "      <td>Leo</td>\n",
              "      <td>testing testing</td>\n",
              "      <td>[male, 15, Student, Leo]</td>\n",
              "    </tr>\n",
              "    <tr>\n",
              "      <th>4</th>\n",
              "      <td>male</td>\n",
              "      <td>33</td>\n",
              "      <td>InvestmentBanking</td>\n",
              "      <td>Aquarius</td>\n",
              "      <td>thanks yahoos toolbar capture urls popupswhich...</td>\n",
              "      <td>[male, 33, InvestmentBanking, Aquarius]</td>\n",
              "    </tr>\n",
              "  </tbody>\n",
              "</table>\n",
              "</div>"
            ],
            "text/plain": [
              "  gender  ...                                   labels\n",
              "0   male  ...                 [male, 15, Student, Leo]\n",
              "1   male  ...                 [male, 15, Student, Leo]\n",
              "2   male  ...                 [male, 15, Student, Leo]\n",
              "3   male  ...                 [male, 15, Student, Leo]\n",
              "4   male  ...  [male, 33, InvestmentBanking, Aquarius]\n",
              "\n",
              "[5 rows x 6 columns]"
            ]
          },
          "metadata": {
            "tags": []
          },
          "execution_count": 74
        }
      ]
    },
    {
      "cell_type": "code",
      "metadata": {
        "id": "1gLaeskN3rqu"
      },
      "source": [
        "#drop  gender,age,topic & sign as they are already merged to labels column\n",
        "df_blog.drop(columns=['gender','age','topic','sign'], axis=1, inplace=True)"
      ],
      "execution_count": 75,
      "outputs": []
    },
    {
      "cell_type": "code",
      "metadata": {
        "colab": {
          "base_uri": "https://localhost:8080/",
          "height": 204
        },
        "id": "J5uRvpb_32Gr",
        "outputId": "8d52d448-7e2a-44a5-dcb6-c2df1cbe73a0"
      },
      "source": [
        "df_blog.head()"
      ],
      "execution_count": 76,
      "outputs": [
        {
          "output_type": "execute_result",
          "data": {
            "text/html": [
              "<div>\n",
              "<style scoped>\n",
              "    .dataframe tbody tr th:only-of-type {\n",
              "        vertical-align: middle;\n",
              "    }\n",
              "\n",
              "    .dataframe tbody tr th {\n",
              "        vertical-align: top;\n",
              "    }\n",
              "\n",
              "    .dataframe thead th {\n",
              "        text-align: right;\n",
              "    }\n",
              "</style>\n",
              "<table border=\"1\" class=\"dataframe\">\n",
              "  <thead>\n",
              "    <tr style=\"text-align: right;\">\n",
              "      <th></th>\n",
              "      <th>text</th>\n",
              "      <th>labels</th>\n",
              "    </tr>\n",
              "  </thead>\n",
              "  <tbody>\n",
              "    <tr>\n",
              "      <th>0</th>\n",
              "      <td>info found 100 pages 45 mb pdf files wait unti...</td>\n",
              "      <td>[male, 15, Student, Leo]</td>\n",
              "    </tr>\n",
              "    <tr>\n",
              "      <th>1</th>\n",
              "      <td>team members drewes van der laag urllink mail ...</td>\n",
              "      <td>[male, 15, Student, Leo]</td>\n",
              "    </tr>\n",
              "    <tr>\n",
              "      <th>2</th>\n",
              "      <td>het kader van kernfusie op aarde maak je eigen...</td>\n",
              "      <td>[male, 15, Student, Leo]</td>\n",
              "    </tr>\n",
              "    <tr>\n",
              "      <th>3</th>\n",
              "      <td>testing testing</td>\n",
              "      <td>[male, 15, Student, Leo]</td>\n",
              "    </tr>\n",
              "    <tr>\n",
              "      <th>4</th>\n",
              "      <td>thanks yahoos toolbar capture urls popupswhich...</td>\n",
              "      <td>[male, 33, InvestmentBanking, Aquarius]</td>\n",
              "    </tr>\n",
              "  </tbody>\n",
              "</table>\n",
              "</div>"
            ],
            "text/plain": [
              "                                                text                                   labels\n",
              "0  info found 100 pages 45 mb pdf files wait unti...                 [male, 15, Student, Leo]\n",
              "1  team members drewes van der laag urllink mail ...                 [male, 15, Student, Leo]\n",
              "2  het kader van kernfusie op aarde maak je eigen...                 [male, 15, Student, Leo]\n",
              "3                                    testing testing                 [male, 15, Student, Leo]\n",
              "4  thanks yahoos toolbar capture urls popupswhich...  [male, 33, InvestmentBanking, Aquarius]"
            ]
          },
          "metadata": {
            "tags": []
          },
          "execution_count": 76
        }
      ]
    },
    {
      "cell_type": "markdown",
      "metadata": {
        "id": "_A7wAEIP4DTP"
      },
      "source": [
        "Train and Test split"
      ]
    },
    {
      "cell_type": "code",
      "metadata": {
        "id": "todUnxdj4NZd"
      },
      "source": [
        "X= df_blog.text\n",
        "y = df_blog.labels"
      ],
      "execution_count": 77,
      "outputs": []
    },
    {
      "cell_type": "code",
      "metadata": {
        "id": "efLCJOJl4cbX"
      },
      "source": [
        "# split X and y into training and testing sets\n",
        "X_train, X_test, y_train, y_test = train_test_split(X,y, random_state=2,test_size = 0.2)"
      ],
      "execution_count": 78,
      "outputs": []
    },
    {
      "cell_type": "code",
      "metadata": {
        "colab": {
          "base_uri": "https://localhost:8080/"
        },
        "id": "8oA5EW544wLj",
        "outputId": "3e589406-d493-4251-8b59-f91dabd320e0"
      },
      "source": [
        "print(X_train.shape)\n",
        "print(y_train.shape)"
      ],
      "execution_count": 79,
      "outputs": [
        {
          "output_type": "stream",
          "text": [
            "(80000,)\n",
            "(80000,)\n"
          ],
          "name": "stdout"
        }
      ]
    },
    {
      "cell_type": "code",
      "metadata": {
        "colab": {
          "base_uri": "https://localhost:8080/"
        },
        "id": "DYItOgui49w1",
        "outputId": "44ba03f1-1fe9-4062-adc8-ecd45bec4e60"
      },
      "source": [
        "print(X_test.shape)\n",
        "print(y_test.shape)"
      ],
      "execution_count": 80,
      "outputs": [
        {
          "output_type": "stream",
          "text": [
            "(20000,)\n",
            "(20000,)\n"
          ],
          "name": "stdout"
        }
      ]
    },
    {
      "cell_type": "code",
      "metadata": {
        "colab": {
          "base_uri": "https://localhost:8080/"
        },
        "id": "QvsNAkSI5jL2",
        "outputId": "61b6eabf-7be8-4437-d298-b3cb7ce02d08"
      },
      "source": [
        "X_test"
      ],
      "execution_count": 81,
      "outputs": [
        {
          "output_type": "execute_result",
          "data": {
            "text/plain": [
              "6448                      bird buries head mashed potatoes\n",
              "50680    ok seriously ruined day like mad right wouldnt...\n",
              "814      astro vs braves got back minute maid stadium d...\n",
              "20354    greetings welcome first ever blog concept behi...\n",
              "49224    walks door room always brightens perfect figur...\n",
              "                               ...                        \n",
              "47661    hey cool jo problem understandable sounds lots...\n",
              "56256    last night went see new harry potter movie hon...\n",
              "92555    urllink instant messages come bearing malice i...\n",
              "36328    srajan gamers sections class 8th entered compu...\n",
              "73345    monqiue got back together wasnt quite dramatic...\n",
              "Name: text, Length: 20000, dtype: object"
            ]
          },
          "metadata": {
            "tags": []
          },
          "execution_count": 81
        }
      ]
    },
    {
      "cell_type": "markdown",
      "metadata": {
        "id": "PWLDhP7XS3TY"
      },
      "source": [
        "a. Create a Bag of Words using count vectorizer\n",
        "\n",
        "i. Use ngram_range=(1, 2)\n",
        "\n",
        "ii. Vectorize training and testing features\n",
        "\n",
        "b. Print the term-document matrix"
      ]
    },
    {
      "cell_type": "code",
      "metadata": {
        "id": "LgX3ej_YS4e5"
      },
      "source": [
        ""
      ],
      "execution_count": 81,
      "outputs": []
    },
    {
      "cell_type": "markdown",
      "metadata": {
        "id": "7ecjCl4r52Qv"
      },
      "source": [
        "**Vectorization **"
      ]
    },
    {
      "cell_type": "code",
      "metadata": {
        "id": "nSsAaUYt56km"
      },
      "source": [
        "cvect = CountVectorizer(ngram_range=(1,2))"
      ],
      "execution_count": 82,
      "outputs": []
    },
    {
      "cell_type": "code",
      "metadata": {
        "colab": {
          "base_uri": "https://localhost:8080/"
        },
        "id": "gvrAXsOcTBjk",
        "outputId": "44d96c1f-04a8-4f67-c8f5-c51d1e2db9f9"
      },
      "source": [
        "#Feed SMS data to CountVectorizer\n",
        "cvect.fit(X_train)\n",
        "\n",
        "#Check the vocablury size\n",
        "len(cvect.vocabulary_)"
      ],
      "execution_count": 83,
      "outputs": [
        {
          "output_type": "execute_result",
          "data": {
            "text/plain": [
              "4517090"
            ]
          },
          "metadata": {
            "tags": []
          },
          "execution_count": 83
        }
      ]
    },
    {
      "cell_type": "code",
      "metadata": {
        "colab": {
          "base_uri": "https://localhost:8080/"
        },
        "id": "a4v4KA4MWf2N",
        "outputId": "c6e39b4e-84e9-4c28-873b-dd49ca24318e"
      },
      "source": [
        "cvect.get_feature_names()"
      ],
      "execution_count": 84,
      "outputs": [
        {
          "output_type": "execute_result",
          "data": {
            "text/plain": [
              "['00',\n",
              " '00 damarcus',\n",
              " '00 damn',\n",
              " '00 doesnt',\n",
              " '00 dont',\n",
              " '00 draw',\n",
              " '00 games',\n",
              " '00 laughed',\n",
              " '00 lil',\n",
              " '00 morning',\n",
              " '00 really',\n",
              " '00 silver',\n",
              " '00 sometimes',\n",
              " '00 soooooo',\n",
              " '00 sq',\n",
              " '00 tcr1',\n",
              " '00 tie',\n",
              " '00 uppercase_75_100',\n",
              " '00 watch',\n",
              " '00 well',\n",
              " '000',\n",
              " '000 address',\n",
              " '000 available',\n",
              " '000 best',\n",
              " '000 calories',\n",
              " '000 cheaper',\n",
              " '000 comptes',\n",
              " '000 could',\n",
              " '000 duration',\n",
              " '000 et',\n",
              " '000 first',\n",
              " '000 ft',\n",
              " '000 fulltime',\n",
              " '000 good',\n",
              " '000 heh',\n",
              " '000 leaving',\n",
              " '000 nothing',\n",
              " '000 odd',\n",
              " '000 people',\n",
              " '000 pounds',\n",
              " '000 rupees',\n",
              " '000 seats',\n",
              " '000 sec',\n",
              " '000 seems',\n",
              " '000 straight',\n",
              " '000 subject',\n",
              " '000 thats',\n",
              " '000 years',\n",
              " '000 yen',\n",
              " '0000',\n",
              " '0000 arent',\n",
              " '0000 blinking',\n",
              " '0000 hopefully',\n",
              " '0000 hrs',\n",
              " '0000 new',\n",
              " '0000 showed',\n",
              " '0000 still',\n",
              " '0000 subject',\n",
              " '000000',\n",
              " '000000 flickrframe',\n",
              " '000000 fontfamily',\n",
              " '000000 zero',\n",
              " '000000000000000000000000167',\n",
              " '000000000000000000000000167 grams',\n",
              " '000000000000000000000section',\n",
              " '000000000000000000000section c09er',\n",
              " '00000000345',\n",
              " '00000000345 secs',\n",
              " '00000001',\n",
              " '00000001 second',\n",
              " '0000001',\n",
              " '0000001 zbaras',\n",
              " '000000flickryourcomment',\n",
              " '000000flickryourcomment flickrframe',\n",
              " '000000this',\n",
              " '000000this certifies',\n",
              " '000001',\n",
              " '000001 maybe',\n",
              " '00000800',\n",
              " '00000800 thats',\n",
              " '00001',\n",
              " '00001 kilowatt',\n",
              " '00001 point',\n",
              " '0001',\n",
              " '0001 chances',\n",
              " '0001 nice',\n",
              " '00011000101',\n",
              " '00011000101 benji',\n",
              " '000264',\n",
              " '000264 31058',\n",
              " '0002hrs',\n",
              " '0002hrs last',\n",
              " '0005',\n",
              " '0005 seconds',\n",
              " '000nbsp',\n",
              " '000nbsp list',\n",
              " '000oooh',\n",
              " '000oooh yes',\n",
              " '001',\n",
              " '001 first',\n",
              " '001 full',\n",
              " '001 javaioioexception',\n",
              " '001 teacher',\n",
              " '001 time',\n",
              " '001 urllink',\n",
              " '0010',\n",
              " '0010 fell',\n",
              " '00101110010101101101001110100100101010001',\n",
              " '00101110010101101101001110100100101010001 exitexe',\n",
              " '00145',\n",
              " '00145 percent',\n",
              " '0015',\n",
              " '0015 15',\n",
              " '001875',\n",
              " '001875 plugging',\n",
              " '002',\n",
              " '002 44th',\n",
              " '002 first',\n",
              " '002 like',\n",
              " '002 middle',\n",
              " '002 sex',\n",
              " '002 thank',\n",
              " '002 urllink',\n",
              " '002020',\n",
              " '002020 gmt',\n",
              " '0020hrs',\n",
              " '0020hrs nowhaasyupxim',\n",
              " '0020hrs woke',\n",
              " '0022',\n",
              " '0022 right',\n",
              " '003',\n",
              " '003 age',\n",
              " '003 im',\n",
              " '003 last',\n",
              " '003 urllink',\n",
              " '0030',\n",
              " '0030 thats',\n",
              " '003200',\n",
              " '003200 cmaj7',\n",
              " '003247',\n",
              " '003247 2004',\n",
              " '004',\n",
              " '004 bday',\n",
              " '004 interest',\n",
              " '004 nicknames',\n",
              " '004 urllink',\n",
              " '0041',\n",
              " '0045',\n",
              " '0045 email',\n",
              " '0045 havent',\n",
              " '0045 thats',\n",
              " '005',\n",
              " '005 euroes',\n",
              " '005 eurosnbsp',\n",
              " '005 gender',\n",
              " '005 height',\n",
              " '005 mph',\n",
              " '005 particular',\n",
              " '005 per',\n",
              " '005 pretty',\n",
              " '005 urllink',\n",
              " '0053',\n",
              " '0053 considering',\n",
              " '006',\n",
              " '006 age',\n",
              " '006 birthday',\n",
              " '006 hair',\n",
              " '006 urllink',\n",
              " '0060521996',\n",
              " '0064',\n",
              " '0064 identified',\n",
              " '0064 shall',\n",
              " '0067',\n",
              " '0067 would',\n",
              " '007',\n",
              " '007 actor',\n",
              " '007 actually',\n",
              " '007 also',\n",
              " '007 arent',\n",
              " '007 birthday',\n",
              " '007 bit',\n",
              " '007 dance',\n",
              " '007 doesnt',\n",
              " '007 dun',\n",
              " '007 eye',\n",
              " '007 financial',\n",
              " '007 game',\n",
              " '007 gets',\n",
              " '007 go',\n",
              " '007 going',\n",
              " '007 height',\n",
              " '007 hope',\n",
              " '007 internet',\n",
              " '007 jennifer',\n",
              " '007 jersey',\n",
              " '007 like',\n",
              " '007 nbsp',\n",
              " '007 needs',\n",
              " '007 never',\n",
              " '007 nightfire',\n",
              " '007 pictures',\n",
              " '007 respect',\n",
              " '007 said',\n",
              " '007 see',\n",
              " '007 serious',\n",
              " '007 sharing',\n",
              " '007 since',\n",
              " '007 start',\n",
              " '007 tell',\n",
              " '007 thing',\n",
              " '007 today',\n",
              " '007 tomorrow',\n",
              " '007 undocumentables',\n",
              " '007 well',\n",
              " '007 would',\n",
              " '007nbsp',\n",
              " '007nbsp agree',\n",
              " '007well',\n",
              " '007well really',\n",
              " '008',\n",
              " '008 hair',\n",
              " '008 height',\n",
              " '008 pt',\n",
              " '008 race',\n",
              " '009',\n",
              " '009 eye',\n",
              " '009 hair',\n",
              " '0097',\n",
              " '0097 compliment',\n",
              " '00h',\n",
              " '00h done',\n",
              " '00h later',\n",
              " '00note__',\n",
              " '00note__ notes',\n",
              " '00s',\n",
              " '00s abc',\n",
              " '00s one',\n",
              " '00s remeber',\n",
              " '00s thats',\n",
              " '00s theres',\n",
              " '00t',\n",
              " '00t damn',\n",
              " '01',\n",
              " '01 02',\n",
              " '01 101102',\n",
              " '01 11',\n",
              " '01 115',\n",
              " '01 1211',\n",
              " '01 191941',\n",
              " '01 194018',\n",
              " '01 194315',\n",
              " '01 195117',\n",
              " '01 195237',\n",
              " '01 195651',\n",
              " '01 195656',\n",
              " '01 1964',\n",
              " '01 1972',\n",
              " '01 2003',\n",
              " '01 2004',\n",
              " '01 203',\n",
              " '01 309',\n",
              " '01 357',\n",
              " '01 across',\n",
              " '01 best',\n",
              " '01 bluetooth',\n",
              " '01 bright',\n",
              " '01 broccoli',\n",
              " '01 butterfly',\n",
              " '01 camaro',\n",
              " '01 cell',\n",
              " '01 chance',\n",
              " '01 charge',\n",
              " '01 clearer',\n",
              " '01 close',\n",
              " '01 colorful',\n",
              " '01 come',\n",
              " '01 cows',\n",
              " '01 disrespectful',\n",
              " '01 four',\n",
              " '01 freedom',\n",
              " '01 friends',\n",
              " '01 goofy',\n",
              " '01 gsm',\n",
              " '01 hammy',\n",
              " '01 hehehe',\n",
              " '01 issues',\n",
              " '01 jewel',\n",
              " '01 keyboard',\n",
              " '01 know',\n",
              " '01 known',\n",
              " '01 leen',\n",
              " '01 lil',\n",
              " '01 means',\n",
              " '01 miles',\n",
              " '01 minds',\n",
              " '01 mp3',\n",
              " '01 nope',\n",
              " '01 pant',\n",
              " '01 pants',\n",
              " '01 percent',\n",
              " '01 person',\n",
              " '01 project',\n",
              " '01 role',\n",
              " '01 seconds',\n",
              " '01 serena',\n",
              " '01 still',\n",
              " '01 story',\n",
              " '01 strike',\n",
              " '01 sundrop',\n",
              " '01 televive',\n",
              " '01 thecurehalo',\n",
              " '01 time',\n",
              " '01 toxic',\n",
              " '01 triggered',\n",
              " '01 underworld',\n",
              " '01 unfortunately',\n",
              " '01 victoria',\n",
              " '01 waiting',\n",
              " '01 watch',\n",
              " '01 whats',\n",
              " '01 我的地盤',\n",
              " '010',\n",
              " '010 10',\n",
              " '010 answer',\n",
              " '010 big',\n",
              " '010 cleveland',\n",
              " '010 custom',\n",
              " '010 customer',\n",
              " '010 eye',\n",
              " '010 flashing',\n",
              " '010 hyundai',\n",
              " '010 national',\n",
              " '010 never',\n",
              " '010 siblings',\n",
              " '010 wear',\n",
              " '0100',\n",
              " '0100 banana',\n",
              " '0100 sleep',\n",
              " '0100 time',\n",
              " '0100 wokeup',\n",
              " '010000oh',\n",
              " '010000oh one',\n",
              " '0100010001101111011100100110101101111000',\n",
              " '0100hrunexpectedlymy',\n",
              " '0100hrunexpectedlymy papa',\n",
              " '0100kmh',\n",
              " '0100kmh 44',\n",
              " '010101',\n",
              " '010101 last',\n",
              " '010101 personal',\n",
              " '01012346',\n",
              " '01012346 course',\n",
              " '0102',\n",
              " '0102 north',\n",
              " '0102 right',\n",
              " '0102 season',\n",
              " '010203',\n",
              " '010203 hehehe',\n",
              " '010504',\n",
              " '010504 may',\n",
              " '01081997',\n",
              " '01081997 01082004its',\n",
              " '01082004',\n",
              " '01082004 apples',\n",
              " '01082004 celebrate',\n",
              " '01082004its',\n",
              " '01082004its 7yrs',\n",
              " '010902',\n",
              " '010902 work',\n",
              " '010haa',\n",
              " '010haa haa',\n",
              " '011',\n",
              " '011 braces',\n",
              " '011 functions',\n",
              " '011 nbsp',\n",
              " '011 points',\n",
              " '011 race',\n",
              " '011 uich',\n",
              " '011 zodiac',\n",
              " '011110am',\n",
              " '011110am mobynathan',\n",
              " '011117am',\n",
              " '011117am mobynathan',\n",
              " '011136am',\n",
              " '011136am jaggonmaster',\n",
              " '011390669882122',\n",
              " '011390669882122 message',\n",
              " '01142004',\n",
              " '01142004 country',\n",
              " '011607',\n",
              " '011607 think',\n",
              " '011615am',\n",
              " '011615am mobynathan',\n",
              " '011646am',\n",
              " '011646am madsh00ter',\n",
              " '011723am',\n",
              " '011723am madsh00ter',\n",
              " '011732am',\n",
              " '011732am jaggonmaster',\n",
              " '011732am mobynathan',\n",
              " '011843am',\n",
              " '011843am madsh00ter',\n",
              " '01187',\n",
              " '01187 _______________________',\n",
              " '011932am',\n",
              " '011932am madsh00ter',\n",
              " '011936am',\n",
              " '011936am madsh00ter',\n",
              " '011937am',\n",
              " '011937am mobynathan',\n",
              " '011939am',\n",
              " '011939am madsh00ter',\n",
              " '011940am',\n",
              " '011940am mobynathan',\n",
              " '012',\n",
              " '012 glasses',\n",
              " '012 hair',\n",
              " '012 many',\n",
              " '01202004',\n",
              " '01202004 larissa',\n",
              " '012022',\n",
              " '012022 2004',\n",
              " '01212004',\n",
              " '01212004 therese',\n",
              " '0125',\n",
              " '0125 pm',\n",
              " '01252004',\n",
              " '01252004 english',\n",
              " '012604',\n",
              " '012604 would',\n",
              " '01299',\n",
              " '01299 402114',\n",
              " '01299 403816',\n",
              " '012xxx',\n",
              " '012xxx xxxx',\n",
              " '013',\n",
              " '013 born',\n",
              " '013 dodid',\n",
              " '013 give',\n",
              " '013 inch',\n",
              " '013 nationality',\n",
              " '0130',\n",
              " '0130 morningnbsp',\n",
              " '0130 watch',\n",
              " '0130 watched',\n",
              " '013227',\n",
              " '013227 gmt',\n",
              " '013528',\n",
              " '013528 2004',\n",
              " '013616',\n",
              " '013616 2004',\n",
              " '013626',\n",
              " '013626 2004',\n",
              " '013936',\n",
              " '013936 2004',\n",
              " '013944',\n",
              " '013944 2004',\n",
              " '014',\n",
              " '014 current',\n",
              " '014 hair',\n",
              " '014 piercings',\n",
              " '0142662566',\n",
              " '0142662566 number',\n",
              " '014357am',\n",
              " '014357am madsh00ter',\n",
              " '014730',\n",
              " '014730 2004',\n",
              " '014757',\n",
              " '014757 2004',\n",
              " '015',\n",
              " '015 born',\n",
              " '015 course',\n",
              " '015 gallon',\n",
              " '015 percent',\n",
              " '015 piercings',\n",
              " '015 trade',\n",
              " '015 zodiac',\n",
              " '01562',\n",
              " '01562 66270',\n",
              " '01562 67148',\n",
              " '01562 820041',\n",
              " '01562nbspnbspnbspnbspnbspnbspnbspnbspnbspnbspnbspnbspnbspnbsp',\n",
              " '01562nbspnbspnbspnbspnbspnbspnbspnbspnbspnbspnbspnbspnbspnbsp pop',\n",
              " '016',\n",
              " '016 current',\n",
              " '016 many',\n",
              " '016 per',\n",
              " '016 tattoos',\n",
              " '017',\n",
              " '017 entire',\n",
              " '017 hour',\n",
              " '017 laungage',\n",
              " '017 tattoos',\n",
              " '017 zodiac',\n",
              " '01752',\n",
              " '01752 224840',\n",
              " '018',\n",
              " '018 bad',\n",
              " '018 felipe',\n",
              " '018 many',\n",
              " '018 todays',\n",
              " '0185nbspnbspnbspnbspnbspnbspnbspnbspnbspnbspnbspnbspnbspnbspnbspnbspnbspnbspnbspnbspnbspnbspnbspnbspnbspnbspnbspnbspnbspnbspnbspnbspnbspnbspnbspnbspnbspnbspnbspnbspnbspnbspnbspnbspnbspnbspnbspnbspnbspnbspnbspnbspnbspnbspnbspnbspnbspnbspnbspnbspnbspnbsp',\n",
              " '0185nbspnbspnbspnbspnbspnbspnbspnbspnbspnbspnbspnbspnbspnbspnbspnbspnbspnbspnbspnbspnbspnbspnbspnbspnbspnbspnbspnbspnbspnbspnbspnbspnbspnbspnbspnbspnbspnbspnbspnbspnbspnbspnbspnbspnbspnbspnbspnbspnbspnbspnbspnbspnbspnbspnbspnbspnbspnbspnbspnbspnbspnbsp margaret',\n",
              " '019',\n",
              " '019 nationality',\n",
              " '019 piercing',\n",
              " '019 time',\n",
              " '01birdjpg',\n",
              " '01birdjpg urllink',\n",
              " '01jill',\n",
              " '01jill sims',\n",
              " '01july04',\n",
              " '01july04 ripped',\n",
              " '01not',\n",
              " '01not bad',\n",
              " '01nov',\n",
              " '01nov 30',\n",
              " '01s',\n",
              " '01s responsibilities',\n",
              " '01sep',\n",
              " '01sep subtracted',\n",
              " '01sep04',\n",
              " '01sep04 remember',\n",
              " '01when',\n",
              " '01when younger',\n",
              " '01x',\n",
              " '01x series',\n",
              " '01x urllink',\n",
              " '02',\n",
              " '02 03',\n",
              " '02 1964',\n",
              " '02 2002',\n",
              " '02 2004',\n",
              " '02 221430',\n",
              " '02 222425',\n",
              " '02 222803',\n",
              " '02 222812',\n",
              " '02 233531',\n",
              " '02 40',\n",
              " '02 86',\n",
              " '02 9550',\n",
              " '02 added',\n",
              " '02 ali',\n",
              " '02 annoying',\n",
              " '02 argue',\n",
              " '02 ashley',\n",
              " '02 august',\n",
              " '02 beyonce',\n",
              " '02 blackwhite',\n",
              " '02 cents',\n",
              " '02 changes',\n",
              " '02 character',\n",
              " '02 cheerwine',\n",
              " '02 could',\n",
              " '02 darryl',\n",
              " '02 day',\n",
              " '02 deadbeat',\n",
              " '02 dont',\n",
              " '02 dork',\n",
              " '02 drop',\n",
              " '02 dumb',\n",
              " '02 encore',\n",
              " '02 faced',\n",
              " '02 fear',\n",
              " '02 florida',\n",
              " '02 franzferdinandtakemeout',\n",
              " '02 friends',\n",
              " '02 geography',\n",
              " '02 group',\n",
              " '02 hits',\n",
              " '02 hope',\n",
              " '02 im',\n",
              " '02 iraq',\n",
              " '02 keyboard',\n",
              " '02 kg',\n",
              " '02 lott',\n",
              " '02 lucky',\n",
              " '02 magic',\n",
              " '02 mama',\n",
              " '02 may',\n",
              " '02 maybe',\n",
              " '02 meet',\n",
              " '02 messages',\n",
              " '02 miles',\n",
              " '02 movies',\n",
              " '02 nbspnbspnbspnbspnbspnbspnbspnbsp',\n",
              " '02 nice',\n",
              " '02 nissan',\n",
              " '02 one',\n",
              " '02 original',\n",
              " '02 personal',\n",
              " '02 pet',\n",
              " '02 pics',\n",
              " '02 plenty',\n",
              " '02 points',\n",
              " '02 rascal',\n",
              " '02 released',\n",
              " '02 republicans',\n",
              " '02 right',\n",
              " '02 rower',\n",
              " '02 season',\n",
              " '02 seemed',\n",
              " '02 shorts',\n",
              " '02 show',\n",
              " '02 simpsons',\n",
              " '02 statement',\n",
              " '02 still',\n",
              " '02 think',\n",
              " '02 today',\n",
              " '02 trb',\n",
              " '02 trips',\n",
              " '02 twister',\n",
              " '02 weakest',\n",
              " '02 weve',\n",
              " '02 wilding',\n",
              " '02 win',\n",
              " '02 windup',\n",
              " '02 七里香',\n",
              " '020',\n",
              " '020 bad',\n",
              " '020 could',\n",
              " '020 even',\n",
              " '020 piercing',\n",
              " '020 still',\n",
              " '0200',\n",
              " '0200 finally',\n",
              " '0200 hrs',\n",
              " '0200 pm',\n",
              " '0200 watching',\n",
              " '0200 went',\n",
              " '020031',\n",
              " '020031 pm',\n",
              " '0200hr',\n",
              " '0200hr 22',\n",
              " '0200hrtido',\n",
              " '0200hrtido dulu',\n",
              " '020101',\n",
              " '020101 clubs',\n",
              " '0203',\n",
              " '0203 financial',\n",
              " '0203 getting',\n",
              " '0203 inland',\n",
              " '0203 transfer',\n",
              " '020304',\n",
              " '020304 115423',\n",
              " '020604',\n",
              " '020604 went',\n",
              " '021',\n",
              " '021 drop',\n",
              " '021 ill',\n",
              " '021 piercings',\n",
              " '021 tattoos',\n",
              " '021 totally',\n",
              " '02109',\n",
              " '02109 number',\n",
              " '02115',\n",
              " '02118',\n",
              " '02118 gmodestpartnersorg',\n",
              " '021320',\n",
              " '021320 link',\n",
              " '021426',\n",
              " '021426 homepage',\n",
              " '0215',\n",
              " '0215 gmt',\n",
              " '021535',\n",
              " '021535 2004',\n",
              " '02162003',\n",
              " '02162003 essential',\n",
              " '0217',\n",
              " '0217 pm',\n",
              " '0218',\n",
              " '0218 pm',\n",
              " '02182004',\n",
              " '02182004 urllink',\n",
              " '0219',\n",
              " '0219 pm',\n",
              " '022',\n",
              " '022 favorite',\n",
              " '022 looks',\n",
              " '022 piercings',\n",
              " '022 µu',\n",
              " '0220',\n",
              " '0220 pm',\n",
              " '0221',\n",
              " '0221 pm',\n",
              " '0222',\n",
              " '0222 pm',\n",
              " '022227',\n",
              " '022227 2004',\n",
              " '0223',\n",
              " '0223 pm',\n",
              " '02232004',\n",
              " '0224',\n",
              " '0224 pm',\n",
              " '0225',\n",
              " '0225 pm',\n",
              " '0225 reverse',\n",
              " '02252004',\n",
              " '02252004 nbsp',\n",
              " '0226',\n",
              " '0226 pm',\n",
              " '022600',\n",
              " '022600 2004',\n",
              " '0227',\n",
              " '0227 pm',\n",
              " '0228',\n",
              " '0228 pm',\n",
              " '0229',\n",
              " '0229 pm',\n",
              " '023',\n",
              " '023 least',\n",
              " '023 released',\n",
              " '023 tattoos',\n",
              " '023 today',\n",
              " '0230',\n",
              " '0230 oni',\n",
              " '0230 pm',\n",
              " '0230 reminded',\n",
              " '0231',\n",
              " '0231 pm',\n",
              " '0232',\n",
              " '0232 pm',\n",
              " '0233',\n",
              " '0233 pm',\n",
              " '0234',\n",
              " '0234 pm',\n",
              " '0235',\n",
              " '0235 pm',\n",
              " '0236',\n",
              " '0236 pm',\n",
              " '0237',\n",
              " '0237 ian',\n",
              " '0237 pm',\n",
              " '023732',\n",
              " '023732 pm',\n",
              " '023746',\n",
              " '023746 pm',\n",
              " '023755',\n",
              " '023755 pm',\n",
              " '0238',\n",
              " '0238 pm',\n",
              " '023800',\n",
              " '023800 pm',\n",
              " '023801',\n",
              " '023801 pm',\n",
              " '023808',\n",
              " '023808 pm',\n",
              " '023847',\n",
              " '023847 pm',\n",
              " '023939',\n",
              " '023939 pm',\n",
              " '023946',\n",
              " '023946 pm',\n",
              " '023947',\n",
              " '023947 pm',\n",
              " '023f5unthat',\n",
              " '023f5unthat sarah',\n",
              " '024',\n",
              " '024 favorite',\n",
              " '024 tattoos',\n",
              " '024 todays',\n",
              " '0240',\n",
              " '0240 pm',\n",
              " '024009',\n",
              " '024009 pm',\n",
              " '0241',\n",
              " '0241 pm',\n",
              " '024201',\n",
              " '024201 pm',\n",
              " '0243',\n",
              " '0243 pm',\n",
              " '0244',\n",
              " '0244 pm',\n",
              " '0245',\n",
              " '0245 pm',\n",
              " '024528am',\n",
              " '024528am jaggonmaster',\n",
              " '0246',\n",
              " '0246 pm',\n",
              " '0247',\n",
              " '0247 pm',\n",
              " '024716',\n",
              " '024716 pm',\n",
              " '024723',\n",
              " '024723 pm',\n",
              " '0248',\n",
              " '0248 pm',\n",
              " '0249',\n",
              " '024908',\n",
              " '024908 pm',\n",
              " '025',\n",
              " '025 least',\n",
              " '025 liability',\n",
              " '025 seconds',\n",
              " '025 time',\n",
              " '025 todays',\n",
              " '0250',\n",
              " '0250 pm',\n",
              " '025050',\n",
              " '025050 blind',\n",
              " '0250h',\n",
              " '0250h ive',\n",
              " '0251',\n",
              " '0251 pm',\n",
              " '0252',\n",
              " '0252 pm',\n",
              " '0253',\n",
              " '0253 pm',\n",
              " '0254',\n",
              " '0254 pm',\n",
              " '0255',\n",
              " '0255 pm',\n",
              " '025613',\n",
              " '025613 pm',\n",
              " '0257',\n",
              " '0257 pm',\n",
              " '0258',\n",
              " '0258 pm',\n",
              " '025805',\n",
              " '025805 2004',\n",
              " '025808',\n",
              " '025808 2004',\n",
              " '026',\n",
              " '026 favorite',\n",
              " '026 main',\n",
              " '026 percent',\n",
              " '026 ready',\n",
              " '026 time',\n",
              " '026 today',\n",
              " '026903116',\n",
              " '026903116 nbsp',\n",
              " '026hr',\n",
              " '026hr raise',\n",
              " '027',\n",
              " '027 least',\n",
              " '027 mothers',\n",
              " '027 ready',\n",
              " '027604303',\n",
              " '027604303 ref',\n",
              " '027623577',\n",
              " '027623577 027604303',\n",
              " '028',\n",
              " '028 dodid',\n",
              " '028 fathers',\n",
              " '028 mothers',\n",
              " '028 plus',\n",
              " '029',\n",
              " '029 brothers',\n",
              " '029 fathers',\n",
              " '029 play',\n",
              " '029jpg',\n",
              " '029jpg urllink',\n",
              " '02haizmissed',\n",
              " '02haizmissed class',\n",
              " '02ip',\n",
              " '02ip 6750',\n",
              " '02july04',\n",
              " '02july04 week',\n",
              " '03',\n",
              " '03 013936',\n",
              " '03 013944',\n",
              " '03 02haizmissed',\n",
              " '03 034320',\n",
              " '03 034936',\n",
              " '03 035102',\n",
              " '03 035622',\n",
              " '03 04',\n",
              " '03 040748',\n",
              " '03 040751',\n",
              " '03 165336',\n",
              " '03 172515',\n",
              " '03 174546',\n",
              " '03 1972',\n",
              " '03 2003',\n",
              " '03 2004',\n",
              " '03 232612',\n",
              " '03 233534',\n",
              " '03 233628',\n",
              " '03 alan',\n",
              " '03 always',\n",
              " '03 ask',\n",
              " '03 aware',\n",
              " '03 back',\n",
              " '03 believe',\n",
              " '03 broke',\n",
              " '03 capitol',\n",
              " '03 could',\n",
              " '03 csi',\n",
              " '03 cuz',\n",
              " '03 deadbeat',\n",
              " '03 encoded',\n",
              " '03 evanescene',\n",
              " '03 ever',\n",
              " '03 fiesta',\n",
              " '03 focus',\n",
              " '03 freaky',\n",
              " '03 freds',\n",
              " '03 fucked',\n",
              " '03 gd',\n",
              " '03 gold',\n",
              " '03 greatest',\n",
              " '03 hair',\n",
              " '03 hate',\n",
              " '03 im',\n",
              " '03 jaime',\n",
              " '03 january',\n",
              " '03 jessica',\n",
              " '03 kameron',\n",
              " '03 kfc',\n",
              " '03 kg',\n",
              " '03 knows',\n",
              " '03 like',\n",
              " '03 lives',\n",
              " '03 love',\n",
              " '03 marshmallow',\n",
              " '03 mcdonalds',\n",
              " '03 meet',\n",
              " '03 met',\n",
              " '03 much',\n",
              " '03 myherour',\n",
              " '03 never',\n",
              " '03 new',\n",
              " '03 pineapple',\n",
              " '03 popular',\n",
              " '03 randomness',\n",
              " '03 rem',\n",
              " '03 remove',\n",
              " '03 school',\n",
              " '03 seem',\n",
              " '03 seemed',\n",
              " '03 since',\n",
              " '03 start',\n",
              " '03 state',\n",
              " '03 suppsose',\n",
              " '03 thefrenchkicksclosetomodern',\n",
              " '03 thought',\n",
              " '03 time',\n",
              " '03 timetable',\n",
              " '03 tokyo',\n",
              " '03 untitled',\n",
              " '03 videos',\n",
              " '03 water',\n",
              " '03 way',\n",
              " '03 whats',\n",
              " '03 would',\n",
              " '03 藉口',\n",
              " '030',\n",
              " '030 arewere',\n",
              " '030 sisters',\n",
              " '030 stepparents',\n",
              " '030 total',\n",
              " '0300',\n",
              " '0300 go',\n",
              " '0300 someone',\n",
              " '0300 things',\n",
              " '0300hrapa',\n",
              " '0300hrapa lagi',\n",
              " '0300hrs',\n",
              " '0300hrs local',\n",
              " '030101',\n",
              " '030101 restaurants',\n",
              " '030208',\n",
              " '030208 2004',\n",
              " '030214',\n",
              " '030214 2004',\n",
              " '0303',\n",
              " '0303 afternoon',\n",
              " '0303 pass',\n",
              " '030303',\n",
              " '030303 gods',\n",
              " '030303 world',\n",
              " '030303 wouldnt',\n",
              " '0303030303',\n",
              " '0303030303 wont',\n",
              " '0304',\n",
              " '0304 hat',\n",
              " '0304 identity',\n",
              " '0304 retire',\n",
              " '030503',\n",
              " '030503 sat',\n",
              " '030504',\n",
              " '030504 whats',\n",
              " '030804',\n",
              " '030804 original',\n",
              " '030952',\n",
              " '030952 hey',\n",
              " '031',\n",
              " '031 brotherss',\n",
              " '031 favorite',\n",
              " '031 humiliating',\n",
              " '0312002',\n",
              " '0312002 limited',\n",
              " '0315',\n",
              " '0315 aogatססn饴rjifcbqӹbӧaҥ',\n",
              " '0315 somewhere',\n",
              " '03152004',\n",
              " '03152004 urllink',\n",
              " '0318',\n",
              " '0318 hrs',\n",
              " '03182004',\n",
              " ...]"
            ]
          },
          "metadata": {
            "tags": []
          },
          "execution_count": 84
        }
      ]
    },
    {
      "cell_type": "code",
      "metadata": {
        "id": "KvEAYlInbuIZ"
      },
      "source": [
        "X_train_ct = cvect.transform(X_train)"
      ],
      "execution_count": 85,
      "outputs": []
    },
    {
      "cell_type": "code",
      "metadata": {
        "colab": {
          "base_uri": "https://localhost:8080/"
        },
        "id": "srx10f811rie",
        "outputId": "0aa41e6f-bce5-453d-a0dd-5f766541a61a"
      },
      "source": [
        "type(X_train_ct)"
      ],
      "execution_count": 86,
      "outputs": [
        {
          "output_type": "execute_result",
          "data": {
            "text/plain": [
              "scipy.sparse.csr.csr_matrix"
            ]
          },
          "metadata": {
            "tags": []
          },
          "execution_count": 86
        }
      ]
    },
    {
      "cell_type": "code",
      "metadata": {
        "colab": {
          "base_uri": "https://localhost:8080/"
        },
        "id": "2jTZ4Xji52Fj",
        "outputId": "0fb66974-c62d-4341-93c0-12a10e0f8c64"
      },
      "source": [
        "X_train_ct"
      ],
      "execution_count": 87,
      "outputs": [
        {
          "output_type": "execute_result",
          "data": {
            "text/plain": [
              "<80000x4517090 sparse matrix of type '<class 'numpy.int64'>'\n",
              "\twith 13894625 stored elements in Compressed Sparse Row format>"
            ]
          },
          "metadata": {
            "tags": []
          },
          "execution_count": 87
        }
      ]
    },
    {
      "cell_type": "code",
      "metadata": {
        "colab": {
          "base_uri": "https://localhost:8080/"
        },
        "id": "UoI_BYl655pU",
        "outputId": "6f23dc5b-b17e-4fb3-f83a-5af2124d1b35"
      },
      "source": [
        "X_train_ct[0]"
      ],
      "execution_count": 89,
      "outputs": [
        {
          "output_type": "execute_result",
          "data": {
            "text/plain": [
              "<1x4517090 sparse matrix of type '<class 'numpy.int64'>'\n",
              "\twith 483 stored elements in Compressed Sparse Row format>"
            ]
          },
          "metadata": {
            "tags": []
          },
          "execution_count": 89
        }
      ]
    },
    {
      "cell_type": "code",
      "metadata": {
        "id": "I4kTn9EC6F8H"
      },
      "source": [
        "X_test_ct = cvect.transform(X_test)"
      ],
      "execution_count": 90,
      "outputs": []
    },
    {
      "cell_type": "code",
      "metadata": {
        "colab": {
          "base_uri": "https://localhost:8080/"
        },
        "id": "DjS5b1bn6MZM",
        "outputId": "b64641ce-d915-45aa-8089-e3c0d7fe75e1"
      },
      "source": [
        "X_test_ct"
      ],
      "execution_count": 91,
      "outputs": [
        {
          "output_type": "execute_result",
          "data": {
            "text/plain": [
              "<20000x4517090 sparse matrix of type '<class 'numpy.int64'>'\n",
              "\twith 2633973 stored elements in Compressed Sparse Row format>"
            ]
          },
          "metadata": {
            "tags": []
          },
          "execution_count": 91
        }
      ]
    },
    {
      "cell_type": "code",
      "metadata": {
        "colab": {
          "base_uri": "https://localhost:8080/"
        },
        "id": "60QqqR6L6XC6",
        "outputId": "82ba7b83-87b4-458a-d4ea-2f82343f484a"
      },
      "source": [
        "cvect.get_feature_names()[:10]"
      ],
      "execution_count": 92,
      "outputs": [
        {
          "output_type": "execute_result",
          "data": {
            "text/plain": [
              "['00',\n",
              " '00 damarcus',\n",
              " '00 damn',\n",
              " '00 doesnt',\n",
              " '00 dont',\n",
              " '00 draw',\n",
              " '00 games',\n",
              " '00 laughed',\n",
              " '00 lil',\n",
              " '00 morning']"
            ]
          },
          "metadata": {
            "tags": []
          },
          "execution_count": 92
        }
      ]
    },
    {
      "cell_type": "code",
      "metadata": {
        "colab": {
          "base_uri": "https://localhost:8080/"
        },
        "id": "uGayDy366w8K",
        "outputId": "e90ba75f-22ef-4227-be1e-bf4d57af8100"
      },
      "source": [
        "print(X_train_ct)"
      ],
      "execution_count": 93,
      "outputs": [
        {
          "output_type": "stream",
          "text": [
            "  (0, 10607)\t1\n",
            "  (0, 10627)\t1\n",
            "  (0, 11033)\t1\n",
            "  (0, 11034)\t1\n",
            "  (0, 13953)\t1\n",
            "  (0, 13954)\t1\n",
            "  (0, 42119)\t1\n",
            "  (0, 42120)\t1\n",
            "  (0, 43719)\t1\n",
            "  (0, 43827)\t1\n",
            "  (0, 67010)\t1\n",
            "  (0, 67011)\t1\n",
            "  (0, 92180)\t1\n",
            "  (0, 92184)\t1\n",
            "  (0, 113011)\t1\n",
            "  (0, 113907)\t1\n",
            "  (0, 120596)\t2\n",
            "  (0, 123016)\t2\n",
            "  (0, 181859)\t1\n",
            "  (0, 181920)\t1\n",
            "  (0, 244805)\t1\n",
            "  (0, 244878)\t1\n",
            "  (0, 258494)\t1\n",
            "  (0, 258690)\t1\n",
            "  (0, 263762)\t1\n",
            "  :\t:\n",
            "  (79999, 489553)\t1\n",
            "  (79999, 490590)\t1\n",
            "  (79999, 685736)\t1\n",
            "  (79999, 686275)\t1\n",
            "  (79999, 987793)\t1\n",
            "  (79999, 990497)\t1\n",
            "  (79999, 1275446)\t1\n",
            "  (79999, 1664615)\t1\n",
            "  (79999, 1668927)\t1\n",
            "  (79999, 1934343)\t1\n",
            "  (79999, 1936464)\t1\n",
            "  (79999, 2334456)\t1\n",
            "  (79999, 2335872)\t1\n",
            "  (79999, 2680191)\t1\n",
            "  (79999, 2682769)\t1\n",
            "  (79999, 2689599)\t1\n",
            "  (79999, 2690051)\t1\n",
            "  (79999, 3250596)\t1\n",
            "  (79999, 3250640)\t1\n",
            "  (79999, 3892432)\t1\n",
            "  (79999, 3894880)\t1\n",
            "  (79999, 3948360)\t1\n",
            "  (79999, 3948560)\t1\n",
            "  (79999, 4052512)\t1\n",
            "  (79999, 4052642)\t1\n"
          ],
          "name": "stdout"
        }
      ]
    },
    {
      "cell_type": "code",
      "metadata": {
        "colab": {
          "base_uri": "https://localhost:8080/"
        },
        "id": "r3mXQd9E6zzZ",
        "outputId": "5d8e366d-424a-4198-b598-0ac7e930c94a"
      },
      "source": [
        "print(X_test_ct)"
      ],
      "execution_count": 94,
      "outputs": [
        {
          "output_type": "stream",
          "text": [
            "  (0, 466872)\t1\n",
            "  (0, 584973)\t1\n",
            "  (0, 584975)\t1\n",
            "  (0, 1781828)\t1\n",
            "  (0, 2442107)\t1\n",
            "  (0, 2442126)\t1\n",
            "  (0, 3036818)\t1\n",
            "  (1, 8711)\t1\n",
            "  (1, 9452)\t1\n",
            "  (1, 21144)\t1\n",
            "  (1, 67661)\t1\n",
            "  (1, 67771)\t1\n",
            "  (1, 74496)\t1\n",
            "  (1, 78471)\t1\n",
            "  (1, 120596)\t2\n",
            "  (1, 121772)\t1\n",
            "  (1, 126920)\t1\n",
            "  (1, 157801)\t2\n",
            "  (1, 157893)\t1\n",
            "  (1, 178920)\t1\n",
            "  (1, 182108)\t1\n",
            "  (1, 182417)\t1\n",
            "  (1, 183363)\t2\n",
            "  (1, 194027)\t1\n",
            "  (1, 202361)\t5\n",
            "  :\t:\n",
            "  (19999, 3380016)\t1\n",
            "  (19999, 3561611)\t1\n",
            "  (19999, 3575363)\t1\n",
            "  (19999, 3710895)\t1\n",
            "  (19999, 3711708)\t1\n",
            "  (19999, 3757318)\t1\n",
            "  (19999, 3899740)\t1\n",
            "  (19999, 3899777)\t1\n",
            "  (19999, 3934893)\t2\n",
            "  (19999, 3935016)\t1\n",
            "  (19999, 3948360)\t1\n",
            "  (19999, 3952264)\t1\n",
            "  (19999, 4013296)\t1\n",
            "  (19999, 4013848)\t1\n",
            "  (19999, 4021460)\t1\n",
            "  (19999, 4023561)\t1\n",
            "  (19999, 4223852)\t1\n",
            "  (19999, 4223914)\t1\n",
            "  (19999, 4284488)\t1\n",
            "  (19999, 4285835)\t1\n",
            "  (19999, 4304472)\t1\n",
            "  (19999, 4330559)\t1\n",
            "  (19999, 4330886)\t1\n",
            "  (19999, 4363071)\t1\n",
            "  (19999, 4423255)\t1\n"
          ],
          "name": "stdout"
        }
      ]
    },
    {
      "cell_type": "code",
      "metadata": {
        "id": "iPkeI_0m-oRx"
      },
      "source": [
        ""
      ],
      "execution_count": null,
      "outputs": []
    },
    {
      "cell_type": "markdown",
      "metadata": {
        "id": "tJegH51H-pA8"
      },
      "source": [
        "Vectorization for labels"
      ]
    },
    {
      "cell_type": "code",
      "metadata": {
        "id": "dbdPuHmL-rjA"
      },
      "source": [
        "label_counts=dict()\n",
        "\n",
        "for labels in df_blog.labels.values:\n",
        "    for label in labels:\n",
        "        if label in label_counts:\n",
        "            label_counts[str(label)]+=1\n",
        "        else:\n",
        "            label_counts[str(label)]=1"
      ],
      "execution_count": 96,
      "outputs": []
    },
    {
      "cell_type": "code",
      "metadata": {
        "colab": {
          "base_uri": "https://localhost:8080/"
        },
        "id": "GdHuKchy_JWq",
        "outputId": "e464b19e-8630-4e0a-a8f6-3f0a3e0ca1a1"
      },
      "source": [
        "labels"
      ],
      "execution_count": 99,
      "outputs": [
        {
          "output_type": "execute_result",
          "data": {
            "text/plain": [
              "['male', 27, 'Student', 'Virgo']"
            ]
          },
          "metadata": {
            "tags": []
          },
          "execution_count": 99
        }
      ]
    },
    {
      "cell_type": "code",
      "metadata": {
        "colab": {
          "base_uri": "https://localhost:8080/"
        },
        "id": "ckmzhy-R_CNU",
        "outputId": "88334dd2-3ce8-40f7-a042-73862368d89f"
      },
      "source": [
        "label_counts"
      ],
      "execution_count": 97,
      "outputs": [
        {
          "output_type": "execute_result",
          "data": {
            "text/plain": [
              "{'13': 1,\n",
              " '14': 1,\n",
              " '15': 1,\n",
              " '16': 1,\n",
              " '17': 1,\n",
              " '23': 1,\n",
              " '24': 1,\n",
              " '25': 1,\n",
              " '26': 1,\n",
              " '27': 1,\n",
              " '33': 1,\n",
              " '34': 1,\n",
              " '35': 1,\n",
              " '36': 1,\n",
              " '37': 1,\n",
              " '38': 1,\n",
              " '39': 1,\n",
              " '40': 1,\n",
              " '41': 1,\n",
              " '42': 1,\n",
              " '43': 1,\n",
              " '44': 1,\n",
              " '45': 1,\n",
              " '46': 1,\n",
              " '47': 1,\n",
              " '48': 1,\n",
              " 'Accounting': 528,\n",
              " 'Advertising': 766,\n",
              " 'Agriculture': 168,\n",
              " 'Aquarius': 9050,\n",
              " 'Architecture': 83,\n",
              " 'Aries': 10637,\n",
              " 'Arts': 5031,\n",
              " 'Automotive': 124,\n",
              " 'Banking': 354,\n",
              " 'Biotech': 324,\n",
              " 'BusinessServices': 626,\n",
              " 'Cancer': 9253,\n",
              " 'Capricorn': 8723,\n",
              " 'Chemicals': 305,\n",
              " 'Communications-Media': 2830,\n",
              " 'Construction': 250,\n",
              " 'Consulting': 905,\n",
              " 'Education': 5553,\n",
              " 'Engineering': 2332,\n",
              " 'Environment': 6,\n",
              " 'Fashion': 1898,\n",
              " 'Gemini': 9225,\n",
              " 'Government': 2055,\n",
              " 'HumanResources': 209,\n",
              " 'Internet': 2251,\n",
              " 'InvestmentBanking': 244,\n",
              " 'Law': 360,\n",
              " 'LawEnforcement-Security': 368,\n",
              " 'Leo': 8230,\n",
              " 'Libra': 7250,\n",
              " 'Manufacturing': 542,\n",
              " 'Maritime': 59,\n",
              " 'Marketing': 726,\n",
              " 'Military': 798,\n",
              " 'Museums-Libraries': 308,\n",
              " 'Non-Profit': 1326,\n",
              " 'Pisces': 7553,\n",
              " 'Publishing': 1079,\n",
              " 'RealEstate': 149,\n",
              " 'Religion': 1081,\n",
              " 'Sagittarius': 7366,\n",
              " 'Science': 1090,\n",
              " 'Scorpio': 7049,\n",
              " 'Sports-Recreation': 406,\n",
              " 'Student': 22122,\n",
              " 'Taurus': 8530,\n",
              " 'Technology': 8484,\n",
              " 'Telecommunications': 165,\n",
              " 'Tourism': 253,\n",
              " 'Transportation': 745,\n",
              " 'Virgo': 7134,\n",
              " 'female': 46642,\n",
              " 'indUnk': 33097,\n",
              " 'male': 53358}"
            ]
          },
          "metadata": {
            "tags": []
          },
          "execution_count": 97
        }
      ]
    },
    {
      "cell_type": "markdown",
      "metadata": {
        "id": "9wdrticqA44T"
      },
      "source": [
        "Transform the labels \n"
      ]
    },
    {
      "cell_type": "code",
      "metadata": {
        "id": "XZuSqZf4A7-p"
      },
      "source": [
        "from sklearn.preprocessing import MultiLabelBinarizer\n",
        "binarizer=MultiLabelBinarizer(classes=sorted(label_counts.keys()))"
      ],
      "execution_count": 100,
      "outputs": []
    },
    {
      "cell_type": "code",
      "metadata": {
        "id": "0hb3UFS7BArF"
      },
      "source": [
        "y_train = binarizer.fit_transform(y_train)"
      ],
      "execution_count": 101,
      "outputs": []
    },
    {
      "cell_type": "code",
      "metadata": {
        "id": "NM8yMHy2BCCY"
      },
      "source": [
        "y_test = binarizer.fit_transform(y_test)"
      ],
      "execution_count": 102,
      "outputs": []
    },
    {
      "cell_type": "code",
      "metadata": {
        "colab": {
          "base_uri": "https://localhost:8080/"
        },
        "id": "USI7nqGIBFwy",
        "outputId": "ae606947-45d4-484e-effa-344d4c7626f7"
      },
      "source": [
        "y_train"
      ],
      "execution_count": 103,
      "outputs": [
        {
          "output_type": "execute_result",
          "data": {
            "text/plain": [
              "array([[0, 0, 0, ..., 0, 0, 1],\n",
              "       [0, 0, 0, ..., 1, 1, 0],\n",
              "       [0, 0, 0, ..., 1, 1, 0],\n",
              "       ...,\n",
              "       [0, 0, 0, ..., 1, 0, 0],\n",
              "       [0, 0, 0, ..., 0, 0, 1],\n",
              "       [0, 0, 0, ..., 0, 0, 1]])"
            ]
          },
          "metadata": {
            "tags": []
          },
          "execution_count": 103
        }
      ]
    },
    {
      "cell_type": "code",
      "metadata": {
        "colab": {
          "base_uri": "https://localhost:8080/"
        },
        "id": "hlRhlJogBIZ7",
        "outputId": "a1584f12-d25c-4f46-efdb-83795b005548"
      },
      "source": [
        "y_test"
      ],
      "execution_count": 104,
      "outputs": [
        {
          "output_type": "execute_result",
          "data": {
            "text/plain": [
              "array([[0, 0, 0, ..., 0, 0, 1],\n",
              "       [0, 0, 0, ..., 0, 0, 1],\n",
              "       [0, 0, 0, ..., 0, 1, 1],\n",
              "       ...,\n",
              "       [0, 0, 0, ..., 1, 0, 0],\n",
              "       [0, 0, 0, ..., 0, 0, 1],\n",
              "       [0, 0, 0, ..., 0, 1, 1]])"
            ]
          },
          "metadata": {
            "tags": []
          },
          "execution_count": 104
        }
      ]
    },
    {
      "cell_type": "markdown",
      "metadata": {
        "id": "WPbNOVsXFkBu"
      },
      "source": [
        "Choosing the classifier model\n"
      ]
    },
    {
      "cell_type": "code",
      "metadata": {
        "id": "P5HveLSWFmNY"
      },
      "source": [
        "from sklearn.multiclass import OneVsRestClassifier\n",
        "from sklearn.linear_model import LogisticRegression"
      ],
      "execution_count": 105,
      "outputs": []
    },
    {
      "cell_type": "code",
      "metadata": {
        "colab": {
          "base_uri": "https://localhost:8080/"
        },
        "id": "p-T-5LuSGd9I",
        "outputId": "359dfcf7-7359-497e-d939-bf4141df7b2c"
      },
      "source": [
        "model=LogisticRegression(solver='lbfgs', max_iter=100)\n",
        "model=OneVsRestClassifier(model)\n",
        "model.fit(X_train_ct,y_train)"
      ],
      "execution_count": 106,
      "outputs": [
        {
          "output_type": "execute_result",
          "data": {
            "text/plain": [
              "OneVsRestClassifier(estimator=LogisticRegression(C=1.0, class_weight=None,\n",
              "                                                 dual=False, fit_intercept=True,\n",
              "                                                 intercept_scaling=1,\n",
              "                                                 l1_ratio=None, max_iter=100,\n",
              "                                                 multi_class='auto',\n",
              "                                                 n_jobs=None, penalty='l2',\n",
              "                                                 random_state=None,\n",
              "                                                 solver='lbfgs', tol=0.0001,\n",
              "                                                 verbose=0, warm_start=False),\n",
              "                    n_jobs=None)"
            ]
          },
          "metadata": {
            "tags": []
          },
          "execution_count": 106
        }
      ]
    },
    {
      "cell_type": "code",
      "metadata": {
        "id": "5IO1TV3pI6yE"
      },
      "source": [
        "Ypred=model.predict(X_test_ct)"
      ],
      "execution_count": 108,
      "outputs": []
    },
    {
      "cell_type": "code",
      "metadata": {
        "colab": {
          "base_uri": "https://localhost:8080/"
        },
        "id": "7XAHXzKQwDMq",
        "outputId": "477670c8-58f9-4845-fc9e-32578c688e60"
      },
      "source": [
        "Ypred"
      ],
      "execution_count": 109,
      "outputs": [
        {
          "output_type": "execute_result",
          "data": {
            "text/plain": [
              "array([[0, 0, 0, ..., 0, 0, 0],\n",
              "       [0, 0, 0, ..., 1, 0, 0],\n",
              "       [0, 0, 0, ..., 1, 0, 0],\n",
              "       ...,\n",
              "       [0, 0, 0, ..., 0, 0, 1],\n",
              "       [0, 0, 0, ..., 0, 0, 1],\n",
              "       [0, 0, 0, ..., 0, 0, 1]])"
            ]
          },
          "metadata": {
            "tags": []
          },
          "execution_count": 109
        }
      ]
    },
    {
      "cell_type": "markdown",
      "metadata": {
        "id": "PDjX7In0FiSX"
      },
      "source": [
        ""
      ]
    },
    {
      "cell_type": "code",
      "metadata": {
        "colab": {
          "base_uri": "https://localhost:8080/"
        },
        "id": "aQMAwShjwIE_",
        "outputId": "5fe2ee43-a5fe-4f7b-faa7-10e847d60036"
      },
      "source": [
        "y_test"
      ],
      "execution_count": 110,
      "outputs": [
        {
          "output_type": "execute_result",
          "data": {
            "text/plain": [
              "array([[0, 0, 0, ..., 0, 0, 1],\n",
              "       [0, 0, 0, ..., 0, 0, 1],\n",
              "       [0, 0, 0, ..., 0, 1, 1],\n",
              "       ...,\n",
              "       [0, 0, 0, ..., 1, 0, 0],\n",
              "       [0, 0, 0, ..., 0, 0, 1],\n",
              "       [0, 0, 0, ..., 0, 1, 1]])"
            ]
          },
          "metadata": {
            "tags": []
          },
          "execution_count": 110
        }
      ]
    },
    {
      "cell_type": "markdown",
      "metadata": {
        "id": "QWK03EHswSqW"
      },
      "source": [
        "Macro Average Method\n",
        "\n"
      ]
    },
    {
      "cell_type": "code",
      "metadata": {
        "id": "8QhX3bJBwY67"
      },
      "source": [
        "from sklearn.metrics import accuracy_score\n",
        "from sklearn.metrics import f1_score\n",
        "from sklearn.metrics import average_precision_score\n",
        "from sklearn.metrics import recall_score\n",
        "\n",
        "def display_metrics_micro(Ytest, Ypred):\n",
        "    print('Accuracy score: ', accuracy_score(Ytest, Ypred))\n",
        "    print('F1 score: Micro', f1_score(Ytest, Ypred, average='micro'))\n",
        "    print('Average precision score: Micro', average_precision_score(Ytest, Ypred, average='micro'))\n",
        "    print('Average recall score: Micro', recall_score(Ytest, Ypred, average='micro'))\n",
        "    \n",
        "    \n",
        "def display_metrics_macro(Ytest, Ypred):\n",
        "    print('Accuracy score: ', accuracy_score(Ytest, Ypred))\n",
        "    print('F1 score: Macro', f1_score(Ytest, Ypred, average='macro'))\n",
        "    print('Average recall score: MAcro', recall_score(Ytest, Ypred, average='macro'))\n",
        "    \n",
        "def display_metrics_weighted(Ytest, Ypred):\n",
        "    print('Accuracy score: ', accuracy_score(Ytest, Ypred))\n",
        "    print('F1 score: weighted', f1_score(Ytest, Ypred, average='weighted'))\n",
        "    print('Average precision score: weighted', average_precision_score(Ytest, Ypred, average='weighted'))\n",
        "    print('Average recall score: weighted', recall_score(Ytest, Ypred, average='weighted'))\n",
        "    "
      ],
      "execution_count": 111,
      "outputs": []
    },
    {
      "cell_type": "code",
      "metadata": {
        "colab": {
          "base_uri": "https://localhost:8080/"
        },
        "id": "tR3-GCubwnhz",
        "outputId": "56828263-0ffd-483b-9416-638a7812ff6f"
      },
      "source": [
        "display_metrics_micro(y_test,Ypred)"
      ],
      "execution_count": 112,
      "outputs": [
        {
          "output_type": "stream",
          "text": [
            "Accuracy score:  0.1085\n",
            "F1 score: Micro 0.4772290809327846\n",
            "Average precision score: Micro 0.28872102074235806\n",
            "Average recall score: Micro 0.3479\n"
          ],
          "name": "stdout"
        }
      ]
    },
    {
      "cell_type": "code",
      "metadata": {
        "colab": {
          "base_uri": "https://localhost:8080/"
        },
        "id": "Ps-Drl9Zwpcz",
        "outputId": "5ab45aa5-1a9c-4c0e-8e11-b4b394e736a4"
      },
      "source": [
        "display_metrics_macro(y_test,Ypred)"
      ],
      "execution_count": 113,
      "outputs": [
        {
          "output_type": "stream",
          "text": [
            "Accuracy score:  0.1085\n",
            "F1 score: Macro 0.15645343614049567\n",
            "Average recall score: MAcro 0.10385235689453302\n"
          ],
          "name": "stdout"
        }
      ]
    },
    {
      "cell_type": "code",
      "metadata": {
        "colab": {
          "base_uri": "https://localhost:8080/"
        },
        "id": "-A56TLsIwtZQ",
        "outputId": "e1a07f99-818b-4bcc-e3cd-2002d9b9cb80"
      },
      "source": [
        "display_metrics_weighted(y_test,Ypred)"
      ],
      "execution_count": 114,
      "outputs": [
        {
          "output_type": "stream",
          "text": [
            "Accuracy score:  0.1085\n",
            "F1 score: weighted 0.43623221118939215\n",
            "Average precision score: weighted 0.3895466577910168\n",
            "Average recall score: weighted 0.3479\n"
          ],
          "name": "stdout"
        }
      ]
    },
    {
      "cell_type": "code",
      "metadata": {
        "id": "2VNH5awgzE_-"
      },
      "source": [
        "true label and predicted label for any five examples\n"
      ],
      "execution_count": null,
      "outputs": []
    },
    {
      "cell_type": "code",
      "metadata": {
        "colab": {
          "base_uri": "https://localhost:8080/"
        },
        "id": "G91f8J2uzHQ7",
        "outputId": "032da7b4-b525-42fa-fc40-1a8db379a20e"
      },
      "source": [
        "print(binarizer.inverse_transform(Ypred)[20])\n",
        "print(binarizer.inverse_transform(y_test)[20])"
      ],
      "execution_count": 118,
      "outputs": [
        {
          "output_type": "stream",
          "text": [
            "('Sagittarius', 'male')\n",
            "('Aquarius', 'Education', 'male')\n"
          ],
          "name": "stdout"
        }
      ]
    },
    {
      "cell_type": "code",
      "metadata": {
        "colab": {
          "base_uri": "https://localhost:8080/"
        },
        "id": "SKJvGP4mzXG9",
        "outputId": "b4c750c5-8b91-4ce0-cbd1-eb7d897f80aa"
      },
      "source": [
        "print(binarizer.inverse_transform(Ypred)[55])\n",
        "print(binarizer.inverse_transform(y_test)[55])"
      ],
      "execution_count": 121,
      "outputs": [
        {
          "output_type": "stream",
          "text": [
            "('female',)\n",
            "('Education', 'Sagittarius', 'female')\n"
          ],
          "name": "stdout"
        }
      ]
    },
    {
      "cell_type": "code",
      "metadata": {
        "colab": {
          "base_uri": "https://localhost:8080/"
        },
        "id": "xwKrTeg-zii8",
        "outputId": "b9a951bb-4ac0-4f36-b4b1-6248d9d48596"
      },
      "source": [
        "print(binarizer.inverse_transform(Ypred)[99])\n",
        "print(binarizer.inverse_transform(y_test)[99])"
      ],
      "execution_count": 122,
      "outputs": [
        {
          "output_type": "stream",
          "text": [
            "('Cancer', 'Education', 'Pisces', 'male')\n",
            "('Education', 'Pisces', 'male')\n"
          ],
          "name": "stdout"
        }
      ]
    },
    {
      "cell_type": "code",
      "metadata": {
        "colab": {
          "base_uri": "https://localhost:8080/"
        },
        "id": "t8X-jan7znVB",
        "outputId": "b00e87d7-091b-43a1-f064-c6aa2671ac48"
      },
      "source": [
        "print(binarizer.inverse_transform(Ypred)[888])\n",
        "print(binarizer.inverse_transform(y_test)[888])"
      ],
      "execution_count": 123,
      "outputs": [
        {
          "output_type": "stream",
          "text": [
            "('male',)\n",
            "('Sagittarius', 'indUnk', 'male')\n"
          ],
          "name": "stdout"
        }
      ]
    },
    {
      "cell_type": "code",
      "metadata": {
        "colab": {
          "base_uri": "https://localhost:8080/"
        },
        "id": "kA5SNjRGzrZ7",
        "outputId": "29786dbd-4b02-4f56-def9-a93a6c071ca1"
      },
      "source": [
        "print(binarizer.inverse_transform(Ypred)[250])\n",
        "print(binarizer.inverse_transform(y_test)[250])"
      ],
      "execution_count": 124,
      "outputs": [
        {
          "output_type": "stream",
          "text": [
            "('Student', 'female')\n",
            "('Sagittarius', 'Student', 'female')\n"
          ],
          "name": "stdout"
        }
      ]
    },
    {
      "cell_type": "markdown",
      "metadata": {
        "id": "j5kOyCxGzFxA"
      },
      "source": [
        ""
      ]
    }
  ]
}