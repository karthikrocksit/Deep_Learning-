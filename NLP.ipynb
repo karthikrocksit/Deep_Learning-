{
  "nbformat": 4,
  "nbformat_minor": 0,
  "metadata": {
    "colab": {
      "name": "NLP.ipynb",
      "provenance": [],
      "collapsed_sections": [],
      "authorship_tag": "ABX9TyN1BonKEY3ScxEfMbhGpSA/",
      "include_colab_link": true
    },
    "kernelspec": {
      "name": "python3",
      "display_name": "Python 3"
    },
    "language_info": {
      "name": "python"
    }
  },
  "cells": [
    {
      "cell_type": "markdown",
      "metadata": {
        "id": "view-in-github",
        "colab_type": "text"
      },
      "source": [
        "<a href=\"https://colab.research.google.com/github/karthikrocksit/Deep_Learning-/blob/main/NLP.ipynb\" target=\"_parent\"><img src=\"https://colab.research.google.com/assets/colab-badge.svg\" alt=\"Open In Colab\"/></a>"
      ]
    },
    {
      "cell_type": "code",
      "metadata": {
        "id": "gmaWF3Vv0PVE"
      },
      "source": [
        "import pandas as pd\n",
        "import re\n",
        "from nltk.corpus import stopwords\n",
        "from sklearn.feature_extraction.text import CountVectorizer\n",
        "from sklearn.model_selection import train_test_split\n",
        "from nltk.stem.snowball import SnowballStemmer\n",
        "import warnings\n",
        "warnings.filterwarnings('ignore')\n",
        "import pandas_profiling as pp\n",
        "import seaborn as sns\n",
        "import matplotlib as plt\n",
        "%matplotlib inline"
      ],
      "execution_count": 1,
      "outputs": []
    },
    {
      "cell_type": "code",
      "metadata": {
        "id": "OHW3U1hR4EBr"
      },
      "source": [
        "from google.colab import drive\n",
        "drive.mount('/content/drive')"
      ],
      "execution_count": null,
      "outputs": []
    },
    {
      "cell_type": "code",
      "metadata": {
        "id": "s2Yh2w_A_6-C"
      },
      "source": [
        "from pydrive.auth import GoogleAuth\n",
        "from pydrive.drive import GoogleDrive\n",
        "from google.colab import auth\n",
        "from oauth2client.client import GoogleCredentials"
      ],
      "execution_count": 5,
      "outputs": []
    },
    {
      "cell_type": "code",
      "metadata": {
        "colab": {
          "base_uri": "https://localhost:8080/"
        },
        "id": "S4CxlnWy9-c1",
        "outputId": "eb615299-762b-48fd-a710-96f2f798970f"
      },
      "source": [
        "from google.colab import drive\n",
        "drive.mount('/content/drive')"
      ],
      "execution_count": 4,
      "outputs": [
        {
          "output_type": "stream",
          "text": [
            "Mounted at /content/drive\n"
          ],
          "name": "stdout"
        }
      ]
    },
    {
      "cell_type": "code",
      "metadata": {
        "colab": {
          "base_uri": "https://localhost:8080/"
        },
        "id": "h11R_-IxKRSV",
        "outputId": "5f48084f-bd34-43c0-b7e6-ce46ddf56374"
      },
      "source": [
        "import os\n",
        "for dirname, _, filenames in os.walk('/content/drive'):\n",
        "    for filename in filenames:\n",
        "        print(os.path.join(dirname, filename))"
      ],
      "execution_count": 16,
      "outputs": [
        {
          "output_type": "stream",
          "text": [
            "/content/drive/MyDrive/02. DataModeling.pdf\n",
            "/content/drive/MyDrive/convert-jpg-to-pdf.net_2017-01-26_16-18-47.pdf\n",
            "/content/drive/MyDrive/Doc Feb 8, 2018 at 10-19 AM.pdf\n",
            "/content/drive/MyDrive/I-140 Approval Notice.pdf\n",
            "/content/drive/MyDrive/TAX EVALUATION SHEET 2018 .gsheet\n",
            "/content/drive/MyDrive/TAX EVALUATION SHEET 2018 .xlsx\n",
            "/content/drive/MyDrive/e-Cert.pdf\n",
            "/content/drive/MyDrive/RENTAL AGREEMENT .doc\n",
            "/content/drive/MyDrive/RENTAL AGREEMENT .gdoc\n",
            "/content/drive/MyDrive/ATT00002\n",
            "/content/drive/MyDrive/ATT00002.gdoc\n",
            "/content/drive/MyDrive/blogtext.csv\n",
            "/content/drive/MyDrive/Reception/To Karthik.zip\n",
            "/content/drive/MyDrive/Pay_Slips_LTI_US/Apr_19_01.pdf\n",
            "/content/drive/MyDrive/Pay_Slips_LTI_US/Apr_19_02.pdf\n",
            "/content/drive/MyDrive/Pay_Slips_LTI_US/Aug_18_02.pdf\n",
            "/content/drive/MyDrive/Pay_Slips_LTI_US/Aug_18_01.pdf\n",
            "/content/drive/MyDrive/Pay_Slips_LTI_US/Feb_19_02.pdf\n",
            "/content/drive/MyDrive/Pay_Slips_LTI_US/Feb_19_01.pdf\n",
            "/content/drive/MyDrive/Pay_Slips_LTI_US/Aug_19.pdf\n",
            "/content/drive/MyDrive/Pay_Slips_LTI_US/Dec_18_03.pdf\n",
            "/content/drive/MyDrive/Pay_Slips_LTI_US/Dec_18_02.pdf\n",
            "/content/drive/MyDrive/Pay_Slips_LTI_US/Dec_18_01.pdf\n",
            "/content/drive/MyDrive/Pay_Slips_LTI_US/Jan_19_02.pdf\n",
            "/content/drive/MyDrive/Pay_Slips_LTI_US/Jul_19.pdf\n",
            "/content/drive/MyDrive/Pay_Slips_LTI_US/Jun_19_02.pdf\n",
            "/content/drive/MyDrive/Pay_Slips_LTI_US/Mar_19_01.pdf\n",
            "/content/drive/MyDrive/Pay_Slips_LTI_US/Jan_19_01.pdf\n",
            "/content/drive/MyDrive/Pay_Slips_LTI_US/May_19_02.pdf\n",
            "/content/drive/MyDrive/Pay_Slips_LTI_US/Nov_18_01.pdf\n",
            "/content/drive/MyDrive/Pay_Slips_LTI_US/Mar_19_02.pdf\n",
            "/content/drive/MyDrive/Pay_Slips_LTI_US/Jun_19_01.pdf\n",
            "/content/drive/MyDrive/Pay_Slips_LTI_US/May_19_01.pdf\n",
            "/content/drive/MyDrive/Pay_Slips_LTI_US/Nov_18_02.pdf\n",
            "/content/drive/MyDrive/Pay_Slips_LTI_US/Oct_18_02.pdf\n",
            "/content/drive/MyDrive/Pay_Slips_LTI_US/Oct_18_01.pdf\n",
            "/content/drive/MyDrive/Pay_Slips_LTI_US/Sep_18_02.pdf\n",
            "/content/drive/MyDrive/Pay_Slips_LTI_US/W-2_Form_2018.pdf\n",
            "/content/drive/MyDrive/Pay_Slips_LTI_US/Sep_18_01.pdf\n",
            "/content/drive/MyDrive/Experience_Letters/CTS_Experience_Letter.pdf\n",
            "/content/drive/MyDrive/Experience_Letters/Infosys_Experience_Letter.pdf\n",
            "/content/drive/MyDrive/Experience_Letters/L&T India experience Letter.pdf\n",
            "/content/drive/MyDrive/Experience_Letters/L&T USA experience Letter.pdf\n",
            "/content/drive/MyDrive/Experience_Letters/Relieving_Letter_CTS.pdf\n",
            "/content/drive/MyDrive/Experience_Letters/Relieving_Letter_Infy_87715.pdf\n",
            "/content/drive/MyDrive/Pay_slips_CTS/pay_statements (1).zip\n",
            "/content/drive/MyDrive/Pay_slips_CTS/pay_statements (2).zip\n",
            "/content/drive/MyDrive/Pay_slips_CTS/pay_statements (3).zip\n",
            "/content/drive/MyDrive/Pay_slips_CTS/pay_statements (5).zip\n",
            "/content/drive/MyDrive/Pay_slips_CTS/pay_statements (4).zip\n",
            "/content/drive/MyDrive/Pay_slips_CTS/W2_2016_CTS.pdf\n",
            "/content/drive/MyDrive/Pay_slips_CTS/W2_2017_CTS.pdf\n",
            "/content/drive/MyDrive/Pay_slips_CTS/pay_statements.zip\n",
            "/content/drive/MyDrive/Pay_slips_CTS/W2_2016_INFY.pdf\n",
            "/content/drive/MyDrive/Pay_slips_CTS/W2_2018_CTS.pdf\n",
            "/content/drive/MyDrive/Income_Tax_W2/W-2_2018_LTI.pdf\n",
            "/content/drive/MyDrive/Income_Tax_W2/W2_2014.pdf\n",
            "/content/drive/MyDrive/Income_Tax_W2/W2_2015.pdf\n",
            "/content/drive/MyDrive/Income_Tax_W2/W2_2016_CTS.pdf\n",
            "/content/drive/MyDrive/Income_Tax_W2/W2_2016_INFY.pdf\n",
            "/content/drive/MyDrive/Income_Tax_W2/W2_2017_CTS.pdf\n",
            "/content/drive/MyDrive/Income_Tax_W2/W2_2018_CTS.pdf\n",
            "/content/drive/MyDrive/Income_Tax_W2/W2_2019.pdf\n",
            "/content/drive/MyDrive/Colab Notebooks/Untitled0.ipynb\n",
            "/content/drive/MyDrive/Colab Notebooks/Untitled1.ipynb\n",
            "/content/drive/MyDrive/Colab Notebooks/NLP.ipynb\n"
          ],
          "name": "stdout"
        }
      ]
    },
    {
      "cell_type": "code",
      "metadata": {
        "id": "SEjQGNELdiIO"
      },
      "source": [
        "df_blog=pd.read_csv('drive/MyDrive/blogtext.csv')"
      ],
      "execution_count": 26,
      "outputs": []
    },
    {
      "cell_type": "code",
      "metadata": {
        "colab": {
          "base_uri": "https://localhost:8080/"
        },
        "id": "dnbBNl4Od7hz",
        "outputId": "40814b62-09ae-4f39-a540-f41f1a169ad6"
      },
      "source": [
        "df_blog.shape"
      ],
      "execution_count": 27,
      "outputs": [
        {
          "output_type": "execute_result",
          "data": {
            "text/plain": [
              "(681284, 7)"
            ]
          },
          "metadata": {
            "tags": []
          },
          "execution_count": 27
        }
      ]
    }
  ]
}